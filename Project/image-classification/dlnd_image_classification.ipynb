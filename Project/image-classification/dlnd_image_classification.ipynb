{
 "cells": [
  {
   "cell_type": "markdown",
   "metadata": {
    "collapsed": true
   },
   "source": [
    "# Image Classification\n",
    "In this project, you'll classify images from the [CIFAR-10 dataset](https://www.cs.toronto.edu/~kriz/cifar.html).  The dataset consists of airplanes, dogs, cats, and other objects. You'll preprocess the images, then train a convolutional neural network on all the samples. The images need to be normalized and the labels need to be one-hot encoded.  You'll get to apply what you learned and build a convolutional, max pooling, dropout, and fully connected layers.  At the end, you'll get to see your neural network's predictions on the sample images.\n",
    "## Get the Data\n",
    "Run the following cell to download the [CIFAR-10 dataset for python](https://www.cs.toronto.edu/~kriz/cifar-10-python.tar.gz)."
   ]
  },
  {
   "cell_type": "code",
   "execution_count": 1,
   "metadata": {},
   "outputs": [
    {
     "name": "stdout",
     "output_type": "stream",
     "text": [
      "All files found!\n"
     ]
    }
   ],
   "source": [
    "\"\"\"\n",
    "DON'T MODIFY ANYTHING IN THIS CELL THAT IS BELOW THIS LINE\n",
    "\"\"\"\n",
    "from urllib.request import urlretrieve\n",
    "from os.path import isfile, isdir\n",
    "from tqdm import tqdm\n",
    "import problem_unittests as tests\n",
    "import tarfile\n",
    "\n",
    "cifar10_dataset_folder_path = 'cifar-10-batches-py'\n",
    "\n",
    "# Use Floyd's cifar-10 dataset if present\n",
    "floyd_cifar10_location = '/cifar/cifar-10-python.tar.gz'\n",
    "if isfile(floyd_cifar10_location):\n",
    "    tar_gz_path = floyd_cifar10_location\n",
    "else:\n",
    "    tar_gz_path = 'cifar-10-python.tar.gz'\n",
    "\n",
    "class DLProgress(tqdm):\n",
    "    last_block = 0\n",
    "\n",
    "    def hook(self, block_num=1, block_size=1, total_size=None):\n",
    "        self.total = total_size\n",
    "        self.update((block_num - self.last_block) * block_size)\n",
    "        self.last_block = block_num\n",
    "\n",
    "if not isfile(tar_gz_path):\n",
    "    with DLProgress(unit='B', unit_scale=True, miniters=1, desc='CIFAR-10 Dataset') as pbar:\n",
    "        urlretrieve(\n",
    "            'https://www.cs.toronto.edu/~kriz/cifar-10-python.tar.gz',\n",
    "            tar_gz_path,\n",
    "            pbar.hook)\n",
    "\n",
    "if not isdir(cifar10_dataset_folder_path):\n",
    "    with tarfile.open(tar_gz_path) as tar:\n",
    "        tar.extractall()\n",
    "        tar.close()\n",
    "\n",
    "\n",
    "tests.test_folder_path(cifar10_dataset_folder_path)"
   ]
  },
  {
   "cell_type": "markdown",
   "metadata": {},
   "source": [
    "## Explore the Data\n",
    "The dataset is broken into batches to prevent your machine from running out of memory.  The CIFAR-10 dataset consists of 5 batches, named `data_batch_1`, `data_batch_2`, etc.. Each batch contains the labels and images that are one of the following:\n",
    "* airplane\n",
    "* automobile\n",
    "* bird\n",
    "* cat\n",
    "* deer\n",
    "* dog\n",
    "* frog\n",
    "* horse\n",
    "* ship\n",
    "* truck\n",
    "\n",
    "Understanding a dataset is part of making predictions on the data.  Play around with the code cell below by changing the `batch_id` and `sample_id`. The `batch_id` is the id for a batch (1-5). The `sample_id` is the id for a image and label pair in the batch.\n",
    "\n",
    "Ask yourself \"What are all possible labels?\", \"What is the range of values for the image data?\", \"Are the labels in order or random?\".  Answers to questions like these will help you preprocess the data and end up with better predictions."
   ]
  },
  {
   "cell_type": "code",
   "execution_count": 2,
   "metadata": {},
   "outputs": [
    {
     "name": "stdout",
     "output_type": "stream",
     "text": [
      "\n",
      "Stats of batch 1:\n",
      "Samples: 10000\n",
      "Label Counts: {0: 1005, 1: 974, 2: 1032, 3: 1016, 4: 999, 5: 937, 6: 1030, 7: 1001, 8: 1025, 9: 981}\n",
      "First 20 Labels: [6, 9, 9, 4, 1, 1, 2, 7, 8, 3, 4, 7, 7, 2, 9, 9, 9, 3, 2, 6]\n",
      "\n",
      "Example of Image 5:\n",
      "Image - Min Value: 0 Max Value: 252\n",
      "Image - Shape: (32, 32, 3)\n",
      "Label - Label Id: 1 Name: automobile\n"
     ]
    },
    {
     "data": {
      "image/png": "[encoded data removed]",
      "text/plain": [
       "<matplotlib.figure.Figure at 0x7fbecee996a0>"
      ]
     },
     "metadata": {
      "image/png": {
       "height": 250,
       "width": 253
      }
     },
     "output_type": "display_data"
    }
   ],
   "source": [
    "%matplotlib inline\n",
    "%config InlineBackend.figure_format = 'retina'\n",
    "\n",
    "import helper\n",
    "import numpy as np\n",
    "\n",
    "# Explore the dataset\n",
    "batch_id = 1\n",
    "sample_id = 5\n",
    "helper.display_stats(cifar10_dataset_folder_path, batch_id, sample_id)"
   ]
  },
  {
   "cell_type": "markdown",
   "metadata": {},
   "source": [
    "## Implement Preprocess Functions\n",
    "### Normalize\n",
    "In the cell below, implement the `normalize` function to take in image data, `x`, and return it as a normalized Numpy array. The values should be in the range of 0 to 1, inclusive.  The return object should be the same shape as `x`."
   ]
  },
  {
   "cell_type": "code",
   "execution_count": 4,
   "metadata": {},
   "outputs": [
    {
     "name": "stdout",
     "output_type": "stream",
     "text": [
      "Tests Passed\n"
     ]
    }
   ],
   "source": [
    "def normalize(x):\n",
    "    \"\"\"\n",
    "    Normalize a list of sample image data in the range of 0 to 1\n",
    "    : x: List of image data.  The image shape is (32, 32, 3)\n",
    "    : return: Numpy array of normalize data\n",
    "    \"\"\"\n",
    "    # TODO: Implement Function\n",
    "    x_max=np.max(x)\n",
    "    x_min=np.min(x)\n",
    "    \n",
    "    return (x-x_min)/(x_max-x_min)\n",
    "\n",
    "\n",
    "\"\"\"\n",
    "DON'T MODIFY ANYTHING IN THIS CELL THAT IS BELOW THIS LINE\n",
    "\"\"\"\n",
    "tests.test_normalize(normalize)"
   ]
  },
  {
   "cell_type": "markdown",
   "metadata": {},
   "source": [
    "### One-hot encode\n",
    "Just like the previous code cell, you'll be implementing a function for preprocessing.  This time, you'll implement the `one_hot_encode` function. The input, `x`, are a list of labels.  Implement the function to return the list of labels as One-Hot encoded Numpy array.  The possible values for labels are 0 to 9. The one-hot encoding function should return the same encoding for each value between each call to `one_hot_encode`.  Make sure to save the map of encodings outside the function.\n",
    "\n",
    "Hint: Don't reinvent the wheel."
   ]
  },
  {
   "cell_type": "code",
   "execution_count": 5,
   "metadata": {},
   "outputs": [
    {
     "name": "stdout",
     "output_type": "stream",
     "text": [
      "Tests Passed\n"
     ]
    }
   ],
   "source": [
    "one_hot_encode_map = np.eye(10)\n",
    "def one_hot_encode(x):\n",
    "    \"\"\"\n",
    "    One hot encode a list of sample labels. Return a one-hot encoded vector for each label.\n",
    "    : x: List of sample Labels\n",
    "    : return: Numpy array of one-hot encoded labels\n",
    "    \"\"\"\n",
    "    # TODO: Implement Function\n",
    "    return one_hot_encode_map[x]\n",
    "\n",
    "\n",
    "\"\"\"\n",
    "DON'T MODIFY ANYTHING IN THIS CELL THAT IS BELOW THIS LINE\n",
    "\"\"\"\n",
    "tests.test_one_hot_encode(one_hot_encode)"
   ]
  },
  {
   "cell_type": "markdown",
   "metadata": {},
   "source": [
    "### Randomize Data\n",
    "As you saw from exploring the data above, the order of the samples are randomized.  It doesn't hurt to randomize it again, but you don't need to for this dataset."
   ]
  },
  {
   "cell_type": "markdown",
   "metadata": {},
   "source": [
    "## Preprocess all the data and save it\n",
    "Running the code cell below will preprocess all the CIFAR-10 data and save it to file. The code below also uses 10% of the training data for validation."
   ]
  },
  {
   "cell_type": "code",
   "execution_count": 13,
   "metadata": {
    "collapsed": true
   },
   "outputs": [],
   "source": [
    "\"\"\"\n",
    "DON'T MODIFY ANYTHING IN THIS CELL\n",
    "\"\"\"\n",
    "# Preprocess Training, Validation, and Testing Data\n",
    "helper.preprocess_and_save_data(cifar10_dataset_folder_path, normalize, one_hot_encode)"
   ]
  },
  {
   "cell_type": "markdown",
   "metadata": {},
   "source": [
    "# Check Point\n",
    "This is your first checkpoint.  If you ever decide to come back to this notebook or have to restart the notebook, you can start from here.  The preprocessed data has been saved to disk."
   ]
  },
  {
   "cell_type": "code",
   "execution_count": 14,
   "metadata": {
    "collapsed": true
   },
   "outputs": [],
   "source": [
    "\"\"\"\n",
    "DON'T MODIFY ANYTHING IN THIS CELL\n",
    "\"\"\"\n",
    "import pickle\n",
    "import problem_unittests as tests\n",
    "import helper\n",
    "\n",
    "# Load the Preprocessed Validation data\n",
    "valid_features, valid_labels = pickle.load(open('preprocess_validation.p', mode='rb'))"
   ]
  },
  {
   "cell_type": "markdown",
   "metadata": {},
   "source": [
    "## Build the network\n",
    "For the neural network, you'll build each layer into a function.  Most of the code you've seen has been outside of functions. To test your code more thoroughly, we require that you put each layer in a function.  This allows us to give you better feedback and test for simple mistakes using our unittests before you submit your project.\n",
    "\n",
    ">**Note:** If you're finding it hard to dedicate enough time for this course each week, we've provided a small shortcut to this part of the project. In the next couple of problems, you'll have the option to use classes from the [TensorFlow Layers](https://www.tensorflow.org/api_docs/python/tf/layers) or [TensorFlow Layers (contrib)](https://www.tensorflow.org/api_guides/python/contrib.layers) packages to build each layer, except the layers you build in the \"Convolutional and Max Pooling Layer\" section.  TF Layers is similar to Keras's and TFLearn's abstraction to layers, so it's easy to pickup.\n",
    "\n",
    ">However, if you would like to get the most out of this course, try to solve all the problems _without_ using anything from the TF Layers packages. You **can** still use classes from other packages that happen to have the same name as ones you find in TF Layers! For example, instead of using the TF Layers version of the `conv2d` class, [tf.layers.conv2d](https://www.tensorflow.org/api_docs/python/tf/layers/conv2d), you would want to use the TF Neural Network version of `conv2d`, [tf.nn.conv2d](https://www.tensorflow.org/api_docs/python/tf/nn/conv2d). \n",
    "\n",
    "Let's begin!\n",
    "\n",
    "### Input\n",
    "The neural network needs to read the image data, one-hot encoded labels, and dropout keep probability. Implement the following functions\n",
    "* Implement `neural_net_image_input`\n",
    " * Return a [TF Placeholder](https://www.tensorflow.org/api_docs/python/tf/placeholder)\n",
    " * Set the shape using `image_shape` with batch size set to `None`.\n",
    " * Name the TensorFlow placeholder \"x\" using the TensorFlow `name` parameter in the [TF Placeholder](https://www.tensorflow.org/api_docs/python/tf/placeholder).\n",
    "* Implement `neural_net_label_input`\n",
    " * Return a [TF Placeholder](https://www.tensorflow.org/api_docs/python/tf/placeholder)\n",
    " * Set the shape using `n_classes` with batch size set to `None`.\n",
    " * Name the TensorFlow placeholder \"y\" using the TensorFlow `name` parameter in the [TF Placeholder](https://www.tensorflow.org/api_docs/python/tf/placeholder).\n",
    "* Implement `neural_net_keep_prob_input`\n",
    " * Return a [TF Placeholder](https://www.tensorflow.org/api_docs/python/tf/placeholder) for dropout keep probability.\n",
    " * Name the TensorFlow placeholder \"keep_prob\" using the TensorFlow `name` parameter in the [TF Placeholder](https://www.tensorflow.org/api_docs/python/tf/placeholder).\n",
    "\n",
    "These names will be used at the end of the project to load your saved model.\n",
    "\n",
    "Note: `None` for shapes in TensorFlow allow for a dynamic size."
   ]
  },
  {
   "cell_type": "code",
   "execution_count": 23,
   "metadata": {},
   "outputs": [
    {
     "name": "stdout",
     "output_type": "stream",
     "text": [
      "Image Input Tests Passed.\n",
      "Label Input Tests Passed.\n",
      "Keep Prob Tests Passed.\n"
     ]
    }
   ],
   "source": [
    "import tensorflow as tf\n",
    "\n",
    "def neural_net_image_input(image_shape):\n",
    "    \"\"\"\n",
    "    Return a Tensor for a batch of image input\n",
    "    : image_shape: Shape of the images\n",
    "    : return: Tensor for image input.\n",
    "    \"\"\"\n",
    "    # TODO: Implement Function\n",
    "    return tf.placeholder(tf.float32, [None,*image_shape],name='x')\n",
    "\n",
    "\n",
    "def neural_net_label_input(n_classes):\n",
    "    \"\"\"\n",
    "    Return a Tensor for a batch of label input\n",
    "    : n_classes: Number of classes\n",
    "    : return: Tensor for label input.\n",
    "    \"\"\"\n",
    "    # TODO: Implement Function\n",
    "    return tf.placeholder(tf.float32, (None, n_classes), name='y')\n",
    "\n",
    "\n",
    "def neural_net_keep_prob_input():\n",
    "    \"\"\"\n",
    "    Return a Tensor for keep probability\n",
    "    : return: Tensor for keep probability.\n",
    "    \"\"\"\n",
    "    # TODO: Implement Function\n",
    "    return tf.placeholder(tf.float32, name='keep_prob')\n",
    "\n",
    "\n",
    "\"\"\"\n",
    "DON'T MODIFY ANYTHING IN THIS CELL THAT IS BELOW THIS LINE\n",
    "\"\"\"\n",
    "tf.reset_default_graph()\n",
    "tests.test_nn_image_inputs(neural_net_image_input)\n",
    "tests.test_nn_label_inputs(neural_net_label_input)\n",
    "tests.test_nn_keep_prob_inputs(neural_net_keep_prob_input)"
   ]
  },
  {
   "cell_type": "markdown",
   "metadata": {},
   "source": [
    "### Convolution and Max Pooling Layer\n",
    "Convolution layers have a lot of success with images. For this code cell, you should implement the function `conv2d_maxpool` to apply convolution then max pooling:\n",
    "* Create the weight and bias using `conv_ksize`, `conv_num_outputs` and the shape of `x_tensor`.\n",
    "* Apply a convolution to `x_tensor` using weight and `conv_strides`.\n",
    " * We recommend you use same padding, but you're welcome to use any padding.\n",
    "* Add bias\n",
    "* Add a nonlinear activation to the convolution.\n",
    "* Apply Max Pooling using `pool_ksize` and `pool_strides`.\n",
    " * We recommend you use same padding, but you're welcome to use any padding.\n",
    "\n",
    "**Note:** You **can't** use [TensorFlow Layers](https://www.tensorflow.org/api_docs/python/tf/layers) or [TensorFlow Layers (contrib)](https://www.tensorflow.org/api_guides/python/contrib.layers) for **this** layer, but you can still use TensorFlow's [Neural Network](https://www.tensorflow.org/api_docs/python/tf/nn) package. You may still use the shortcut option for all the **other** layers."
   ]
  },
  {
   "cell_type": "code",
   "execution_count": 43,
   "metadata": {},
   "outputs": [
    {
     "name": "stdout",
     "output_type": "stream",
     "text": [
      "Tests Passed\n"
     ]
    }
   ],
   "source": [
    "def conv2d_maxpool(x_tensor, conv_num_outputs, conv_ksize, conv_strides, pool_ksize, pool_strides):\n",
    "    \"\"\"\n",
    "    Apply convolution then max pooling to x_tensor\n",
    "    :param x_tensor: TensorFlow Tensor\n",
    "    :param conv_num_outputs: Number of outputs for the convolutional layer\n",
    "    :param conv_ksize: kernal size 2-D Tuple for the convolutional layer\n",
    "    :param conv_strides: Stride 2-D Tuple for convolution\n",
    "    :param pool_ksize: kernal size 2-D Tuple for pool\n",
    "    :param pool_strides: Stride 2-D Tuple for pool\n",
    "    : return: A tensor that represents convolution and max pooling of x_tensor\n",
    "    \"\"\"\n",
    "    # TODO: Implement Function\n",
    "    input_shape = x_tensor.get_shape().as_list()\n",
    "    input_depth = input_shape[3]\n",
    "    \n",
    "    weights = tf.Variable(tf.truncated_normal((*conv_ksize, input_depth, conv_num_outputs),mean=0,stddev=.1))\n",
    "    bias= tf.Variable(tf.zeros(conv_num_outputs))\n",
    "    \n",
    "    # convolution\n",
    "    conv_layer = tf.nn.conv2d(x_tensor,weights,strides=[1, conv_strides[0], conv_strides[1], 1],padding='SAME')\n",
    "    conv_layer2 = tf.nn.bias_add(conv_layer, bias)\n",
    "    relu_layer = tf.nn.relu(conv_layer2)\n",
    "    \n",
    "    # max pooling\n",
    "    maxpool_layer = tf.nn.max_pool(relu_layer,ksize=[1, pool_ksize[0], pool_ksize[1], 1],strides=[1, pool_strides[0], pool_strides[1], 1],padding='SAME')\n",
    "    return maxpool_layer \n",
    "\n",
    "\n",
    "\"\"\"\n",
    "DON'T MODIFY ANYTHING IN THIS CELL THAT IS BELOW THIS LINE\n",
    "\"\"\"\n",
    "tests.test_con_pool(conv2d_maxpool)"
   ]
  },
  {
   "cell_type": "markdown",
   "metadata": {},
   "source": [
    "### Flatten Layer\n",
    "Implement the `flatten` function to change the dimension of `x_tensor` from a 4-D tensor to a 2-D tensor.  The output should be the shape (*Batch Size*, *Flattened Image Size*). Shortcut option: you can use classes from the [TensorFlow Layers](https://www.tensorflow.org/api_docs/python/tf/layers) or [TensorFlow Layers (contrib)](https://www.tensorflow.org/api_guides/python/contrib.layers) packages for this layer. For more of a challenge, only use other TensorFlow packages."
   ]
  },
  {
   "cell_type": "code",
   "execution_count": 44,
   "metadata": {},
   "outputs": [
    {
     "name": "stdout",
     "output_type": "stream",
     "text": [
      "Tests Passed\n"
     ]
    }
   ],
   "source": [
    "def flatten(x_tensor):\n",
    "    \"\"\"\n",
    "    Flatten x_tensor to (Batch Size, Flattened Image Size)\n",
    "    : x_tensor: A tensor of size (Batch Size, ...), where ... are the image dimensions.\n",
    "    : return: A tensor of size (Batch Size, Flattened Image Size).\n",
    "    \"\"\"\n",
    "    # TODO: Implement Function\n",
    "    return tf.contrib.layers.flatten(x_tensor)\n",
    "   \n",
    "\"\"\"\n",
    "DON'T MODIFY ANYTHING IN THIS CELL THAT IS BELOW THIS LINE\n",
    "\"\"\"\n",
    "tests.test_flatten(flatten)"
   ]
  },
  {
   "cell_type": "markdown",
   "metadata": {},
   "source": [
    "### Fully-Connected Layer\n",
    "Implement the `fully_conn` function to apply a fully connected layer to `x_tensor` with the shape (*Batch Size*, *num_outputs*). Shortcut option: you can use classes from the [TensorFlow Layers](https://www.tensorflow.org/api_docs/python/tf/layers) or [TensorFlow Layers (contrib)](https://www.tensorflow.org/api_guides/python/contrib.layers) packages for this layer. For more of a challenge, only use other TensorFlow packages."
   ]
  },
  {
   "cell_type": "code",
   "execution_count": 45,
   "metadata": {},
   "outputs": [
    {
     "name": "stdout",
     "output_type": "stream",
     "text": [
      "Tests Passed\n"
     ]
    }
   ],
   "source": [
    "def fully_conn(x_tensor, num_outputs):\n",
    "    \"\"\"\n",
    "    Apply a fully connected layer to x_tensor using weight and bias\n",
    "    : x_tensor: A 2-D tensor where the first dimension is batch size.\n",
    "    : num_outputs: The number of output that the new tensor should be.\n",
    "    : return: A 2-D tensor where the second dimension is num_outputs.\n",
    "    \"\"\"\n",
    "    # TODO: Implement Function\n",
    "    conn_shape = x_tensor.get_shape().as_list()\n",
    "    weights = tf.Variable(tf.truncated_normal((conn_shape[1], num_outputs), mean=0,stddev=0.1))\n",
    "    bias = tf.Variable(tf.zeros(num_outputs))\n",
    "    \n",
    "    fully_conn_layer = tf.matmul(x_tensor, weights) + bias\n",
    "    relu_layer = tf.nn.relu(fully_conn_layer)\n",
    "    \n",
    "    return relu_layer\n",
    "   \n",
    "\"\"\"\n",
    "DON'T MODIFY ANYTHING IN THIS CELL THAT IS BELOW THIS LINE\n",
    "\"\"\"\n",
    "tests.test_fully_conn(fully_conn)"
   ]
  },
  {
   "cell_type": "markdown",
   "metadata": {},
   "source": [
    "### Output Layer\n",
    "Implement the `output` function to apply a fully connected layer to `x_tensor` with the shape (*Batch Size*, *num_outputs*). Shortcut option: you can use classes from the [TensorFlow Layers](https://www.tensorflow.org/api_docs/python/tf/layers) or [TensorFlow Layers (contrib)](https://www.tensorflow.org/api_guides/python/contrib.layers) packages for this layer. For more of a challenge, only use other TensorFlow packages.\n",
    "\n",
    "**Note:** Activation, softmax, or cross entropy should **not** be applied to this."
   ]
  },
  {
   "cell_type": "code",
   "execution_count": 46,
   "metadata": {},
   "outputs": [
    {
     "name": "stdout",
     "output_type": "stream",
     "text": [
      "Tests Passed\n"
     ]
    }
   ],
   "source": [
    "def output(x_tensor, num_outputs):\n",
    "    \"\"\"\n",
    "    Apply a output layer to x_tensor using weight and bias\n",
    "    : x_tensor: A 2-D tensor where the first dimension is batch size.\n",
    "    : num_outputs: The number of output that the new tensor should be.\n",
    "    : return: A 2-D tensor where the second dimension is num_outputs.\n",
    "    \"\"\"\n",
    "    # TODO: Implement Function\n",
    "    output_shape = x_tensor.get_shape().as_list()\n",
    "    weights = tf.Variable(tf.truncated_normal((output_shape[1], num_outputs), mean=0,stddev=0.1))\n",
    "    bias = tf.Variable(tf.zeros(num_outputs))\n",
    "    \n",
    "    output_layer = tf.matmul(x_tensor, weights) + bias\n",
    "    \n",
    "    return output_layer\n",
    "   \n",
    "\"\"\"\n",
    "DON'T MODIFY ANYTHING IN THIS CELL THAT IS BELOW THIS LINE\n",
    "\"\"\"\n",
    "tests.test_output(output)"
   ]
  },
  {
   "cell_type": "markdown",
   "metadata": {},
   "source": [
    "### Create Convolutional Model\n",
    "Implement the function `conv_net` to create a convolutional neural network model. The function takes in a batch of images, `x`, and outputs logits.  Use the layers you created above to create this model:\n",
    "\n",
    "* Apply 1, 2, or 3 Convolution and Max Pool layers\n",
    "* Apply a Flatten Layer\n",
    "* Apply 1, 2, or 3 Fully Connected Layers\n",
    "* Apply an Output Layer\n",
    "* Return the output\n",
    "* Apply [TensorFlow's Dropout](https://www.tensorflow.org/api_docs/python/tf/nn/dropout) to one or more layers in the model using `keep_prob`. "
   ]
  },
  {
   "cell_type": "code",
   "execution_count": 47,
   "metadata": {},
   "outputs": [
    {
     "name": "stdout",
     "output_type": "stream",
     "text": [
      "Neural Network Built!\n"
     ]
    }
   ],
   "source": [
    "def conv_net(x, keep_prob):\n",
    "    \"\"\"\n",
    "    Create a convolutional neural network model\n",
    "    : x: Placeholder tensor that holds image data.\n",
    "    : keep_prob: Placeholder tensor that hold dropout keep probability.\n",
    "    : return: Tensor that represents logits\n",
    "    \"\"\"\n",
    "    # TODO: Apply 1, 2, or 3 Convolution and Max Pool layers\n",
    "    #    Play around with different number of outputs, kernel size and stride\n",
    "    # Function Definition from Above:\n",
    "    #    conv2d_maxpool(x_tensor, conv_num_outputs, conv_ksize, conv_strides, pool_ksize, pool_strides)\n",
    "    maxpool_layer1 = conv2d_maxpool(x, 32, (3, 3), (2, 2), (2, 2), (1, 1))\n",
    "    maxpool_layer2 = conv2d_maxpool(maxpool_layer1, 64, (2, 2), (2, 2), (2, 2), (1, 1))\n",
    "    maxpool_layer3 = conv2d_maxpool(maxpool_layer2, 128, (2, 2), (2, 2), (2, 2), (1, 1))\n",
    "\n",
    "    # TODO: Apply a Flatten Layer\n",
    "    # Function Definition from Above:\n",
    "    #   flatten(x_tensor)\n",
    "    flatten_layer = flatten(maxpool_layer3)\n",
    "\n",
    "    # TODO: Apply 1, 2, or 3 Fully Connected Layers\n",
    "    #    Play around with different number of outputs\n",
    "    # Function Definition from Above:\n",
    "    #   fully_conn(x_tensor, num_outputs)\n",
    "    fully_conn_layer = fully_conn(flatten_layer, 512)\n",
    "    dropout_layer = tf.nn.dropout(fully_conn_layer, keep_prob)\n",
    "    fully_conn_layer2 = fully_conn(dropout_layer, 256)\n",
    "    dropout_layer2 = tf.nn.dropout(fully_conn_layer2, keep_prob)\n",
    "    fully_conn_layer3 = fully_conn(dropout_layer2, 128)\n",
    "    dropout_layer3 = tf.nn.dropout(fully_conn_layer3, keep_prob)\n",
    "    \n",
    "    # TODO: Apply an Output Layer\n",
    "    #    Set this to the number of classes\n",
    "    # Function Definition from Above:\n",
    "    #   output(x_tensor, num_outputs)\n",
    "    out_layer = output(dropout_layer3, 10)\n",
    "    \n",
    "    # TODO: return output\n",
    "    # 3 Convolution and Max Pool layers\n",
    "    # conv2d_maxpool(x_tensor, conv_num_outputs, conv_ksize, conv_strides, pool_ksize, pool_strides)\n",
    "    return out_layer \n",
    "\"\"\"\n",
    "DON'T MODIFY ANYTHING IN THIS CELL THAT IS BELOW THIS LINE\n",
    "\"\"\"\n",
    "\n",
    "##############################\n",
    "## Build the Neural Network ##\n",
    "##############################\n",
    "\n",
    "# Remove previous weights, bias, inputs, etc..\n",
    "tf.reset_default_graph()\n",
    "\n",
    "# Inputs\n",
    "x = neural_net_image_input((32, 32, 3))\n",
    "y = neural_net_label_input(10)\n",
    "keep_prob = neural_net_keep_prob_input()\n",
    "\n",
    "# Model\n",
    "logits = conv_net(x, keep_prob)\n",
    "\n",
    "# Name logits Tensor, so that is can be loaded from disk after training\n",
    "logits = tf.identity(logits, name='logits')\n",
    "\n",
    "# Loss and Optimizer\n",
    "cost = tf.reduce_mean(tf.nn.softmax_cross_entropy_with_logits(logits=logits, labels=y))\n",
    "optimizer = tf.train.AdamOptimizer().minimize(cost)\n",
    "\n",
    "# Accuracy\n",
    "correct_pred = tf.equal(tf.argmax(logits, 1), tf.argmax(y, 1))\n",
    "accuracy = tf.reduce_mean(tf.cast(correct_pred, tf.float32), name='accuracy')\n",
    "\n",
    "tests.test_conv_net(conv_net)"
   ]
  },
  {
   "cell_type": "markdown",
   "metadata": {},
   "source": [
    "## Train the Neural Network\n",
    "### Single Optimization\n",
    "Implement the function `train_neural_network` to do a single optimization.  The optimization should use `optimizer` to optimize in `session` with a `feed_dict` of the following:\n",
    "* `x` for image input\n",
    "* `y` for labels\n",
    "* `keep_prob` for keep probability for dropout\n",
    "\n",
    "This function will be called for each batch, so `tf.global_variables_initializer()` has already been called.\n",
    "\n",
    "Note: Nothing needs to be returned. This function is only optimizing the neural network."
   ]
  },
  {
   "cell_type": "code",
   "execution_count": 48,
   "metadata": {},
   "outputs": [
    {
     "name": "stdout",
     "output_type": "stream",
     "text": [
      "Tests Passed\n"
     ]
    }
   ],
   "source": [
    "def train_neural_network(session, optimizer, keep_probability, feature_batch, label_batch):\n",
    "    \"\"\"\n",
    "    Optimize the session on a batch of images and labels\n",
    "    : session: Current TensorFlow session\n",
    "    : optimizer: TensorFlow optimizer function\n",
    "    : keep_probability: keep probability\n",
    "    : feature_batch: Batch of Numpy image data\n",
    "    : label_batch: Batch of Numpy label data\n",
    "    \"\"\"\n",
    "    # TODO: Implement Function\n",
    "    session.run(optimizer,feed_dict={x: feature_batch,y: label_batch,keep_prob: keep_probability})\n",
    "\n",
    "\n",
    "\"\"\"\n",
    "DON'T MODIFY ANYTHING IN THIS CELL THAT IS BELOW THIS LINE\n",
    "\"\"\"\n",
    "tests.test_train_nn(train_neural_network)"
   ]
  },
  {
   "cell_type": "markdown",
   "metadata": {},
   "source": [
    "### Show Stats\n",
    "Implement the function `print_stats` to print loss and validation accuracy.  Use the global variables `valid_features` and `valid_labels` to calculate validation accuracy.  Use a keep probability of `1.0` to calculate the loss and validation accuracy."
   ]
  },
  {
   "cell_type": "code",
   "execution_count": 49,
   "metadata": {
    "collapsed": true
   },
   "outputs": [],
   "source": [
    "def print_stats(session, feature_batch, label_batch, cost, accuracy):\n",
    "    \"\"\"\n",
    "    Print information about loss and validation accuracy\n",
    "    : session: Current TensorFlow session\n",
    "    : feature_batch: Batch of Numpy image data\n",
    "    : label_batch: Batch of Numpy label data\n",
    "    : cost: TensorFlow cost function\n",
    "    : accuracy: TensorFlow accuracy function\n",
    "    \"\"\"\n",
    "    # TODO: Implement Function\n",
    "    loss=session.run(cost,feed_dict={x:feature_batch,y:label_batch,keep_prob:1.0})\n",
    "   \n",
    "    validation_accuracy = session.run(accuracy, feed_dict={x:feature_batch, y: label_batch,keep_prob:1.0})\n",
    "    \n",
    "    print(\"Loss: {:.4f} Validation_accuracy: {:.4f}\".format(loss, validation_accuracy))"
   ]
  },
  {
   "cell_type": "markdown",
   "metadata": {},
   "source": [
    "### Hyperparameters\n",
    "Tune the following parameters:\n",
    "* Set `epochs` to the number of iterations until the network stops learning or start overfitting\n",
    "* Set `batch_size` to the highest number that your machine has memory for.  Most people set them to common sizes of memory:\n",
    " * 64\n",
    " * 128\n",
    " * 256\n",
    " * ...\n",
    "* Set `keep_probability` to the probability of keeping a node using dropout"
   ]
  },
  {
   "cell_type": "code",
   "execution_count": 50,
   "metadata": {
    "collapsed": true
   },
   "outputs": [],
   "source": [
    "# TODO: Tune Parameters\n",
    "epochs = 50\n",
    "batch_size = 1024\n",
    "keep_probability = 0.6"
   ]
  },
  {
   "cell_type": "markdown",
   "metadata": {},
   "source": [
    "### Train on a Single CIFAR-10 Batch\n",
    "Instead of training the neural network on all the CIFAR-10 batches of data, let's use a single batch. This should save time while you iterate on the model to get a better accuracy.  Once the final validation accuracy is 50% or greater, run the model on all the data in the next section."
   ]
  },
  {
   "cell_type": "code",
   "execution_count": 51,
   "metadata": {},
   "outputs": [
    {
     "name": "stdout",
     "output_type": "stream",
     "text": [
      "Checking the Training on a Single Batch...\n",
      "Epoch  1, CIFAR-10 Batch 1:  Loss: 2.2845 Validation_accuracy: 0.1262\n",
      "Epoch  2, CIFAR-10 Batch 1:  Loss: 2.2643 Validation_accuracy: 0.1894\n",
      "Epoch  3, CIFAR-10 Batch 1:  Loss: 2.1573 Validation_accuracy: 0.2141\n",
      "Epoch  4, CIFAR-10 Batch 1:  Loss: 2.0871 Validation_accuracy: 0.2413\n",
      "Epoch  5, CIFAR-10 Batch 1:  Loss: 1.9989 Validation_accuracy: 0.2785\n",
      "Epoch  6, CIFAR-10 Batch 1:  Loss: 1.8735 Validation_accuracy: 0.3490\n",
      "Epoch  7, CIFAR-10 Batch 1:  Loss: 1.7713 Validation_accuracy: 0.3738\n",
      "Epoch  8, CIFAR-10 Batch 1:  Loss: 1.6925 Validation_accuracy: 0.4035\n",
      "Epoch  9, CIFAR-10 Batch 1:  Loss: 1.6508 Validation_accuracy: 0.4295\n",
      "Epoch 10, CIFAR-10 Batch 1:  Loss: 1.5520 Validation_accuracy: 0.4517\n",
      "Epoch 11, CIFAR-10 Batch 1:  Loss: 1.5222 Validation_accuracy: 0.4802\n",
      "Epoch 12, CIFAR-10 Batch 1:  Loss: 1.4789 Validation_accuracy: 0.4938\n",
      "Epoch 13, CIFAR-10 Batch 1:  Loss: 1.3940 Validation_accuracy: 0.5124\n",
      "Epoch 14, CIFAR-10 Batch 1:  Loss: 1.3583 Validation_accuracy: 0.5210\n",
      "Epoch 15, CIFAR-10 Batch 1:  Loss: 1.3380 Validation_accuracy: 0.5285\n",
      "Epoch 16, CIFAR-10 Batch 1:  Loss: 1.2821 Validation_accuracy: 0.5458\n",
      "Epoch 17, CIFAR-10 Batch 1:  Loss: 1.2065 Validation_accuracy: 0.5817\n",
      "Epoch 18, CIFAR-10 Batch 1:  Loss: 1.1708 Validation_accuracy: 0.5854\n",
      "Epoch 19, CIFAR-10 Batch 1:  Loss: 1.1615 Validation_accuracy: 0.5705\n",
      "Epoch 20, CIFAR-10 Batch 1:  Loss: 1.1640 Validation_accuracy: 0.5965\n",
      "Epoch 21, CIFAR-10 Batch 1:  Loss: 1.1264 Validation_accuracy: 0.5916\n",
      "Epoch 22, CIFAR-10 Batch 1:  Loss: 1.0570 Validation_accuracy: 0.6312\n",
      "Epoch 23, CIFAR-10 Batch 1:  Loss: 1.0057 Validation_accuracy: 0.6498\n",
      "Epoch 24, CIFAR-10 Batch 1:  Loss: 1.0019 Validation_accuracy: 0.6448\n",
      "Epoch 25, CIFAR-10 Batch 1:  Loss: 0.9402 Validation_accuracy: 0.6906\n",
      "Epoch 26, CIFAR-10 Batch 1:  Loss: 0.9057 Validation_accuracy: 0.6795\n",
      "Epoch 27, CIFAR-10 Batch 1:  Loss: 0.8829 Validation_accuracy: 0.6943\n",
      "Epoch 28, CIFAR-10 Batch 1:  Loss: 0.8651 Validation_accuracy: 0.7141\n",
      "Epoch 29, CIFAR-10 Batch 1:  Loss: 0.8363 Validation_accuracy: 0.7116\n",
      "Epoch 30, CIFAR-10 Batch 1:  Loss: 0.7968 Validation_accuracy: 0.7314\n",
      "Epoch 31, CIFAR-10 Batch 1:  Loss: 0.7705 Validation_accuracy: 0.7351\n",
      "Epoch 32, CIFAR-10 Batch 1:  Loss: 0.7154 Validation_accuracy: 0.7611\n",
      "Epoch 33, CIFAR-10 Batch 1:  Loss: 0.7357 Validation_accuracy: 0.7438\n",
      "Epoch 34, CIFAR-10 Batch 1:  Loss: 0.7309 Validation_accuracy: 0.7450\n",
      "Epoch 35, CIFAR-10 Batch 1:  Loss: 0.6999 Validation_accuracy: 0.7475\n",
      "Epoch 36, CIFAR-10 Batch 1:  Loss: 0.6420 Validation_accuracy: 0.7822\n",
      "Epoch 37, CIFAR-10 Batch 1:  Loss: 0.6930 Validation_accuracy: 0.7562\n",
      "Epoch 38, CIFAR-10 Batch 1:  Loss: 0.6593 Validation_accuracy: 0.7772\n",
      "Epoch 39, CIFAR-10 Batch 1:  Loss: 0.5819 Validation_accuracy: 0.7946\n",
      "Epoch 40, CIFAR-10 Batch 1:  Loss: 0.5609 Validation_accuracy: 0.8057\n",
      "Epoch 41, CIFAR-10 Batch 1:  Loss: 0.5289 Validation_accuracy: 0.8243\n",
      "Epoch 42, CIFAR-10 Batch 1:  Loss: 0.5106 Validation_accuracy: 0.8329\n",
      "Epoch 43, CIFAR-10 Batch 1:  Loss: 0.5769 Validation_accuracy: 0.8292\n",
      "Epoch 44, CIFAR-10 Batch 1:  Loss: 0.5468 Validation_accuracy: 0.7995\n",
      "Epoch 45, CIFAR-10 Batch 1:  Loss: 0.4479 Validation_accuracy: 0.8465\n",
      "Epoch 46, CIFAR-10 Batch 1:  Loss: 0.4257 Validation_accuracy: 0.8750\n",
      "Epoch 47, CIFAR-10 Batch 1:  Loss: 0.3976 Validation_accuracy: 0.8676\n",
      "Epoch 48, CIFAR-10 Batch 1:  Loss: 0.4022 Validation_accuracy: 0.8713\n",
      "Epoch 49, CIFAR-10 Batch 1:  Loss: 0.3470 Validation_accuracy: 0.8948\n",
      "Epoch 50, CIFAR-10 Batch 1:  Loss: 0.3223 Validation_accuracy: 0.8899\n"
     ]
    }
   ],
   "source": [
    "\"\"\"\n",
    "DON'T MODIFY ANYTHING IN THIS CELL\n",
    "\"\"\"\n",
    "print('Checking the Training on a Single Batch...')\n",
    "with tf.Session() as sess:\n",
    "    # Initializing the variables\n",
    "    sess.run(tf.global_variables_initializer())\n",
    "    \n",
    "    # Training cycle\n",
    "    for epoch in range(epochs):\n",
    "        batch_i = 1\n",
    "        for batch_features, batch_labels in helper.load_preprocess_training_batch(batch_i, batch_size):\n",
    "            train_neural_network(sess, optimizer, keep_probability, batch_features, batch_labels)\n",
    "        print('Epoch {:>2}, CIFAR-10 Batch {}:  '.format(epoch + 1, batch_i), end='')\n",
    "        print_stats(sess, batch_features, batch_labels, cost, accuracy)"
   ]
  },
  {
   "cell_type": "markdown",
   "metadata": {},
   "source": [
    "### Fully Train the Model\n",
    "Now that you got a good accuracy with a single CIFAR-10 batch, try it with all five batches."
   ]
  },
  {
   "cell_type": "code",
   "execution_count": 52,
   "metadata": {},
   "outputs": [
    {
     "name": "stdout",
     "output_type": "stream",
     "text": [
      "Training...\n",
      "Epoch  1, CIFAR-10 Batch 1:  Loss: 2.2739 Validation_accuracy: 0.1535\n",
      "Epoch  1, CIFAR-10 Batch 2:  Loss: 2.1780 Validation_accuracy: 0.2475\n",
      "Epoch  1, CIFAR-10 Batch 3:  Loss: 2.0737 Validation_accuracy: 0.2265\n",
      "Epoch  1, CIFAR-10 Batch 4:  Loss: 1.9904 Validation_accuracy: 0.2587\n",
      "Epoch  1, CIFAR-10 Batch 5:  Loss: 1.9519 Validation_accuracy: 0.2970\n",
      "Epoch  2, CIFAR-10 Batch 1:  Loss: 1.8689 Validation_accuracy: 0.3230\n",
      "Epoch  2, CIFAR-10 Batch 2:  Loss: 1.7994 Validation_accuracy: 0.3626\n",
      "Epoch  2, CIFAR-10 Batch 3:  Loss: 1.6931 Validation_accuracy: 0.3936\n",
      "Epoch  2, CIFAR-10 Batch 4:  Loss: 1.6641 Validation_accuracy: 0.3899\n",
      "Epoch  2, CIFAR-10 Batch 5:  Loss: 1.5921 Validation_accuracy: 0.4394\n",
      "Epoch  3, CIFAR-10 Batch 1:  Loss: 1.5716 Validation_accuracy: 0.4431\n",
      "Epoch  3, CIFAR-10 Batch 2:  Loss: 1.5611 Validation_accuracy: 0.4270\n",
      "Epoch  3, CIFAR-10 Batch 3:  Loss: 1.5052 Validation_accuracy: 0.4542\n",
      "Epoch  3, CIFAR-10 Batch 4:  Loss: 1.4566 Validation_accuracy: 0.4691\n",
      "Epoch  3, CIFAR-10 Batch 5:  Loss: 1.4206 Validation_accuracy: 0.4839\n",
      "Epoch  4, CIFAR-10 Batch 1:  Loss: 1.4003 Validation_accuracy: 0.4814\n",
      "Epoch  4, CIFAR-10 Batch 2:  Loss: 1.4259 Validation_accuracy: 0.4752\n",
      "Epoch  4, CIFAR-10 Batch 3:  Loss: 1.3472 Validation_accuracy: 0.5050\n",
      "Epoch  4, CIFAR-10 Batch 4:  Loss: 1.3300 Validation_accuracy: 0.5037\n",
      "Epoch  4, CIFAR-10 Batch 5:  Loss: 1.2991 Validation_accuracy: 0.5087\n",
      "Epoch  5, CIFAR-10 Batch 1:  Loss: 1.3249 Validation_accuracy: 0.5149\n",
      "Epoch  5, CIFAR-10 Batch 2:  Loss: 1.3118 Validation_accuracy: 0.5223\n",
      "Epoch  5, CIFAR-10 Batch 3:  Loss: 1.2506 Validation_accuracy: 0.5557\n",
      "Epoch  5, CIFAR-10 Batch 4:  Loss: 1.2114 Validation_accuracy: 0.5730\n",
      "Epoch  5, CIFAR-10 Batch 5:  Loss: 1.2140 Validation_accuracy: 0.5557\n",
      "Epoch  6, CIFAR-10 Batch 1:  Loss: 1.2284 Validation_accuracy: 0.5520\n",
      "Epoch  6, CIFAR-10 Batch 2:  Loss: 1.2028 Validation_accuracy: 0.5619\n",
      "Epoch  6, CIFAR-10 Batch 3:  Loss: 1.1647 Validation_accuracy: 0.5866\n",
      "Epoch  6, CIFAR-10 Batch 4:  Loss: 1.1496 Validation_accuracy: 0.5780\n",
      "Epoch  6, CIFAR-10 Batch 5:  Loss: 1.1556 Validation_accuracy: 0.5743\n",
      "Epoch  7, CIFAR-10 Batch 1:  Loss: 1.1499 Validation_accuracy: 0.5817\n",
      "Epoch  7, CIFAR-10 Batch 2:  Loss: 1.1439 Validation_accuracy: 0.5854\n",
      "Epoch  7, CIFAR-10 Batch 3:  Loss: 1.0974 Validation_accuracy: 0.5953\n",
      "Epoch  7, CIFAR-10 Batch 4:  Loss: 1.0789 Validation_accuracy: 0.6139\n",
      "Epoch  7, CIFAR-10 Batch 5:  Loss: 1.0647 Validation_accuracy: 0.6250\n",
      "Epoch  8, CIFAR-10 Batch 1:  Loss: 1.0896 Validation_accuracy: 0.6089\n",
      "Epoch  8, CIFAR-10 Batch 2:  Loss: 1.0934 Validation_accuracy: 0.6040\n",
      "Epoch  8, CIFAR-10 Batch 3:  Loss: 1.0595 Validation_accuracy: 0.6064\n",
      "Epoch  8, CIFAR-10 Batch 4:  Loss: 1.0492 Validation_accuracy: 0.6213\n",
      "Epoch  8, CIFAR-10 Batch 5:  Loss: 1.0429 Validation_accuracy: 0.6361\n",
      "Epoch  9, CIFAR-10 Batch 1:  Loss: 1.0371 Validation_accuracy: 0.6275\n",
      "Epoch  9, CIFAR-10 Batch 2:  Loss: 1.0431 Validation_accuracy: 0.6225\n",
      "Epoch  9, CIFAR-10 Batch 3:  Loss: 0.9821 Validation_accuracy: 0.6510\n",
      "Epoch  9, CIFAR-10 Batch 4:  Loss: 0.9609 Validation_accuracy: 0.6584\n",
      "Epoch  9, CIFAR-10 Batch 5:  Loss: 0.9675 Validation_accuracy: 0.6646\n",
      "Epoch 10, CIFAR-10 Batch 1:  Loss: 1.0013 Validation_accuracy: 0.6399\n",
      "Epoch 10, CIFAR-10 Batch 2:  Loss: 0.9937 Validation_accuracy: 0.6547\n",
      "Epoch 10, CIFAR-10 Batch 3:  Loss: 0.9790 Validation_accuracy: 0.6448\n",
      "Epoch 10, CIFAR-10 Batch 4:  Loss: 0.9217 Validation_accuracy: 0.6819\n",
      "Epoch 10, CIFAR-10 Batch 5:  Loss: 0.9160 Validation_accuracy: 0.6844\n",
      "Epoch 11, CIFAR-10 Batch 1:  Loss: 0.9501 Validation_accuracy: 0.6609\n",
      "Epoch 11, CIFAR-10 Batch 2:  Loss: 0.9364 Validation_accuracy: 0.6708\n",
      "Epoch 11, CIFAR-10 Batch 3:  Loss: 0.9163 Validation_accuracy: 0.6869\n",
      "Epoch 11, CIFAR-10 Batch 4:  Loss: 0.8960 Validation_accuracy: 0.6819\n",
      "Epoch 11, CIFAR-10 Batch 5:  Loss: 0.8730 Validation_accuracy: 0.7005\n",
      "Epoch 12, CIFAR-10 Batch 1:  Loss: 0.9108 Validation_accuracy: 0.6819\n",
      "Epoch 12, CIFAR-10 Batch 2:  Loss: 0.9149 Validation_accuracy: 0.6832\n",
      "Epoch 12, CIFAR-10 Batch 3:  Loss: 0.8695 Validation_accuracy: 0.6856\n",
      "Epoch 12, CIFAR-10 Batch 4:  Loss: 0.8388 Validation_accuracy: 0.7067\n",
      "Epoch 12, CIFAR-10 Batch 5:  Loss: 0.8135 Validation_accuracy: 0.7240\n",
      "Epoch 13, CIFAR-10 Batch 1:  Loss: 0.8659 Validation_accuracy: 0.6980\n",
      "Epoch 13, CIFAR-10 Batch 2:  Loss: 0.8409 Validation_accuracy: 0.6993\n",
      "Epoch 13, CIFAR-10 Batch 3:  Loss: 0.8221 Validation_accuracy: 0.7017\n",
      "Epoch 13, CIFAR-10 Batch 4:  Loss: 0.8108 Validation_accuracy: 0.7104\n",
      "Epoch 13, CIFAR-10 Batch 5:  Loss: 0.8142 Validation_accuracy: 0.7215\n",
      "Epoch 14, CIFAR-10 Batch 1:  Loss: 0.8377 Validation_accuracy: 0.7042\n",
      "Epoch 14, CIFAR-10 Batch 2:  Loss: 0.8553 Validation_accuracy: 0.6918\n",
      "Epoch 14, CIFAR-10 Batch 3:  Loss: 0.7859 Validation_accuracy: 0.7240\n",
      "Epoch 14, CIFAR-10 Batch 4:  Loss: 0.7686 Validation_accuracy: 0.7426\n",
      "Epoch 14, CIFAR-10 Batch 5:  Loss: 0.7669 Validation_accuracy: 0.7351\n",
      "Epoch 15, CIFAR-10 Batch 1:  Loss: 0.7943 Validation_accuracy: 0.7178\n",
      "Epoch 15, CIFAR-10 Batch 2:  Loss: 0.8029 Validation_accuracy: 0.7141\n",
      "Epoch 15, CIFAR-10 Batch 3:  Loss: 0.7808 Validation_accuracy: 0.7067\n",
      "Epoch 15, CIFAR-10 Batch 4:  Loss: 0.7428 Validation_accuracy: 0.7525\n",
      "Epoch 15, CIFAR-10 Batch 5:  Loss: 0.6982 Validation_accuracy: 0.7624\n",
      "Epoch 16, CIFAR-10 Batch 1:  Loss: 0.7862 Validation_accuracy: 0.7129\n",
      "Epoch 16, CIFAR-10 Batch 2:  Loss: 0.7626 Validation_accuracy: 0.7277\n",
      "Epoch 16, CIFAR-10 Batch 3:  Loss: 0.7271 Validation_accuracy: 0.7389\n",
      "Epoch 16, CIFAR-10 Batch 4:  Loss: 0.7114 Validation_accuracy: 0.7587\n",
      "Epoch 16, CIFAR-10 Batch 5:  Loss: 0.6690 Validation_accuracy: 0.7723\n",
      "Epoch 17, CIFAR-10 Batch 1:  Loss: 0.7419 Validation_accuracy: 0.7351\n",
      "Epoch 17, CIFAR-10 Batch 2:  Loss: 0.7157 Validation_accuracy: 0.7624\n",
      "Epoch 17, CIFAR-10 Batch 3:  Loss: 0.6884 Validation_accuracy: 0.7488\n",
      "Epoch 17, CIFAR-10 Batch 4:  Loss: 0.6631 Validation_accuracy: 0.7760\n",
      "Epoch 17, CIFAR-10 Batch 5:  Loss: 0.6181 Validation_accuracy: 0.7995\n",
      "Epoch 18, CIFAR-10 Batch 1:  Loss: 0.7138 Validation_accuracy: 0.7512\n",
      "Epoch 18, CIFAR-10 Batch 2:  Loss: 0.7016 Validation_accuracy: 0.7624\n",
      "Epoch 18, CIFAR-10 Batch 3:  Loss: 0.6905 Validation_accuracy: 0.7599\n",
      "Epoch 18, CIFAR-10 Batch 4:  Loss: 0.6644 Validation_accuracy: 0.7649\n",
      "Epoch 18, CIFAR-10 Batch 5:  Loss: 0.6083 Validation_accuracy: 0.7958\n",
      "Epoch 19, CIFAR-10 Batch 1:  Loss: 0.6979 Validation_accuracy: 0.7611\n",
      "Epoch 19, CIFAR-10 Batch 2:  Loss: 0.6474 Validation_accuracy: 0.7748\n",
      "Epoch 19, CIFAR-10 Batch 3:  Loss: 0.6785 Validation_accuracy: 0.7450\n",
      "Epoch 19, CIFAR-10 Batch 4:  Loss: 0.6106 Validation_accuracy: 0.7933\n",
      "Epoch 19, CIFAR-10 Batch 5:  Loss: 0.5910 Validation_accuracy: 0.7896\n",
      "Epoch 20, CIFAR-10 Batch 1:  Loss: 0.6392 Validation_accuracy: 0.7772\n",
      "Epoch 20, CIFAR-10 Batch 2:  Loss: 0.6230 Validation_accuracy: 0.8020\n",
      "Epoch 20, CIFAR-10 Batch 3:  Loss: 0.6053 Validation_accuracy: 0.7785\n",
      "Epoch 20, CIFAR-10 Batch 4:  Loss: 0.6036 Validation_accuracy: 0.8119\n",
      "Epoch 20, CIFAR-10 Batch 5:  Loss: 0.5698 Validation_accuracy: 0.8106\n",
      "Epoch 21, CIFAR-10 Batch 1:  Loss: 0.6145 Validation_accuracy: 0.7958\n",
      "Epoch 21, CIFAR-10 Batch 2:  Loss: 0.6182 Validation_accuracy: 0.7908\n",
      "Epoch 21, CIFAR-10 Batch 3:  Loss: 0.5980 Validation_accuracy: 0.7983\n",
      "Epoch 21, CIFAR-10 Batch 4:  Loss: 0.5655 Validation_accuracy: 0.8119\n",
      "Epoch 21, CIFAR-10 Batch 5:  Loss: 0.5590 Validation_accuracy: 0.8119\n",
      "Epoch 22, CIFAR-10 Batch 1:  Loss: 0.5739 Validation_accuracy: 0.8045\n",
      "Epoch 22, CIFAR-10 Batch 2:  Loss: 0.5922 Validation_accuracy: 0.8094\n",
      "Epoch 22, CIFAR-10 Batch 3:  Loss: 0.5398 Validation_accuracy: 0.8230\n",
      "Epoch 22, CIFAR-10 Batch 4:  Loss: 0.5438 Validation_accuracy: 0.7995\n",
      "Epoch 22, CIFAR-10 Batch 5:  Loss: 0.5061 Validation_accuracy: 0.8379\n",
      "Epoch 23, CIFAR-10 Batch 1:  Loss: 0.5637 Validation_accuracy: 0.8007\n",
      "Epoch 23, CIFAR-10 Batch 2:  Loss: 0.5414 Validation_accuracy: 0.8379\n",
      "Epoch 23, CIFAR-10 Batch 3:  Loss: 0.5825 Validation_accuracy: 0.7970\n",
      "Epoch 23, CIFAR-10 Batch 4:  Loss: 0.5342 Validation_accuracy: 0.8205\n",
      "Epoch 23, CIFAR-10 Batch 5:  Loss: 0.5366 Validation_accuracy: 0.8304\n",
      "Epoch 24, CIFAR-10 Batch 1:  Loss: 0.5343 Validation_accuracy: 0.8131\n",
      "Epoch 24, CIFAR-10 Batch 2:  Loss: 0.5213 Validation_accuracy: 0.8403\n"
     ]
    },
    {
     "name": "stdout",
     "output_type": "stream",
     "text": [
      "Epoch 24, CIFAR-10 Batch 3:  Loss: 0.5631 Validation_accuracy: 0.8230\n",
      "Epoch 24, CIFAR-10 Batch 4:  Loss: 0.5727 Validation_accuracy: 0.7995\n",
      "Epoch 24, CIFAR-10 Batch 5:  Loss: 0.4853 Validation_accuracy: 0.8490\n",
      "Epoch 25, CIFAR-10 Batch 1:  Loss: 0.5105 Validation_accuracy: 0.8317\n",
      "Epoch 25, CIFAR-10 Batch 2:  Loss: 0.5370 Validation_accuracy: 0.8218\n",
      "Epoch 25, CIFAR-10 Batch 3:  Loss: 0.5038 Validation_accuracy: 0.8379\n",
      "Epoch 25, CIFAR-10 Batch 4:  Loss: 0.4865 Validation_accuracy: 0.8379\n",
      "Epoch 25, CIFAR-10 Batch 5:  Loss: 0.5430 Validation_accuracy: 0.8205\n",
      "Epoch 26, CIFAR-10 Batch 1:  Loss: 0.5302 Validation_accuracy: 0.8082\n",
      "Epoch 26, CIFAR-10 Batch 2:  Loss: 0.5272 Validation_accuracy: 0.8441\n",
      "Epoch 26, CIFAR-10 Batch 3:  Loss: 0.4515 Validation_accuracy: 0.8465\n",
      "Epoch 26, CIFAR-10 Batch 4:  Loss: 0.4592 Validation_accuracy: 0.8453\n",
      "Epoch 26, CIFAR-10 Batch 5:  Loss: 0.4543 Validation_accuracy: 0.8614\n",
      "Epoch 27, CIFAR-10 Batch 1:  Loss: 0.4596 Validation_accuracy: 0.8304\n",
      "Epoch 27, CIFAR-10 Batch 2:  Loss: 0.4691 Validation_accuracy: 0.8527\n",
      "Epoch 27, CIFAR-10 Batch 3:  Loss: 0.4431 Validation_accuracy: 0.8515\n",
      "Epoch 27, CIFAR-10 Batch 4:  Loss: 0.4604 Validation_accuracy: 0.8453\n",
      "Epoch 27, CIFAR-10 Batch 5:  Loss: 0.4243 Validation_accuracy: 0.8651\n",
      "Epoch 28, CIFAR-10 Batch 1:  Loss: 0.4560 Validation_accuracy: 0.8465\n",
      "Epoch 28, CIFAR-10 Batch 2:  Loss: 0.4613 Validation_accuracy: 0.8577\n",
      "Epoch 28, CIFAR-10 Batch 3:  Loss: 0.4295 Validation_accuracy: 0.8527\n",
      "Epoch 28, CIFAR-10 Batch 4:  Loss: 0.4273 Validation_accuracy: 0.8441\n",
      "Epoch 28, CIFAR-10 Batch 5:  Loss: 0.4029 Validation_accuracy: 0.8688\n",
      "Epoch 29, CIFAR-10 Batch 1:  Loss: 0.4234 Validation_accuracy: 0.8614\n",
      "Epoch 29, CIFAR-10 Batch 2:  Loss: 0.4401 Validation_accuracy: 0.8502\n",
      "Epoch 29, CIFAR-10 Batch 3:  Loss: 0.3915 Validation_accuracy: 0.8725\n",
      "Epoch 29, CIFAR-10 Batch 4:  Loss: 0.4208 Validation_accuracy: 0.8552\n",
      "Epoch 29, CIFAR-10 Batch 5:  Loss: 0.3722 Validation_accuracy: 0.8812\n",
      "Epoch 30, CIFAR-10 Batch 1:  Loss: 0.4064 Validation_accuracy: 0.8614\n",
      "Epoch 30, CIFAR-10 Batch 2:  Loss: 0.4412 Validation_accuracy: 0.8366\n",
      "Epoch 30, CIFAR-10 Batch 3:  Loss: 0.3667 Validation_accuracy: 0.8861\n",
      "Epoch 30, CIFAR-10 Batch 4:  Loss: 0.3727 Validation_accuracy: 0.8837\n",
      "Epoch 30, CIFAR-10 Batch 5:  Loss: 0.3477 Validation_accuracy: 0.8812\n",
      "Epoch 31, CIFAR-10 Batch 1:  Loss: 0.3498 Validation_accuracy: 0.8837\n",
      "Epoch 31, CIFAR-10 Batch 2:  Loss: 0.3867 Validation_accuracy: 0.8688\n",
      "Epoch 31, CIFAR-10 Batch 3:  Loss: 0.3448 Validation_accuracy: 0.8923\n",
      "Epoch 31, CIFAR-10 Batch 4:  Loss: 0.3539 Validation_accuracy: 0.8874\n",
      "Epoch 31, CIFAR-10 Batch 5:  Loss: 0.3313 Validation_accuracy: 0.8960\n",
      "Epoch 32, CIFAR-10 Batch 1:  Loss: 0.3286 Validation_accuracy: 0.8899\n",
      "Epoch 32, CIFAR-10 Batch 2:  Loss: 0.3743 Validation_accuracy: 0.8800\n",
      "Epoch 32, CIFAR-10 Batch 3:  Loss: 0.2985 Validation_accuracy: 0.9109\n",
      "Epoch 32, CIFAR-10 Batch 4:  Loss: 0.3647 Validation_accuracy: 0.8762\n",
      "Epoch 32, CIFAR-10 Batch 5:  Loss: 0.3340 Validation_accuracy: 0.8874\n",
      "Epoch 33, CIFAR-10 Batch 1:  Loss: 0.3269 Validation_accuracy: 0.8874\n",
      "Epoch 33, CIFAR-10 Batch 2:  Loss: 0.3888 Validation_accuracy: 0.8676\n",
      "Epoch 33, CIFAR-10 Batch 3:  Loss: 0.3192 Validation_accuracy: 0.9072\n",
      "Epoch 33, CIFAR-10 Batch 4:  Loss: 0.3579 Validation_accuracy: 0.8824\n",
      "Epoch 33, CIFAR-10 Batch 5:  Loss: 0.3677 Validation_accuracy: 0.8762\n",
      "Epoch 34, CIFAR-10 Batch 1:  Loss: 0.3452 Validation_accuracy: 0.8812\n",
      "Epoch 34, CIFAR-10 Batch 2:  Loss: 0.3453 Validation_accuracy: 0.9109\n",
      "Epoch 34, CIFAR-10 Batch 3:  Loss: 0.3020 Validation_accuracy: 0.9084\n",
      "Epoch 34, CIFAR-10 Batch 4:  Loss: 0.3334 Validation_accuracy: 0.8911\n",
      "Epoch 34, CIFAR-10 Batch 5:  Loss: 0.3139 Validation_accuracy: 0.9022\n",
      "Epoch 35, CIFAR-10 Batch 1:  Loss: 0.3246 Validation_accuracy: 0.8911\n",
      "Epoch 35, CIFAR-10 Batch 2:  Loss: 0.3387 Validation_accuracy: 0.8923\n",
      "Epoch 35, CIFAR-10 Batch 3:  Loss: 0.3331 Validation_accuracy: 0.8886\n",
      "Epoch 35, CIFAR-10 Batch 4:  Loss: 0.3276 Validation_accuracy: 0.8985\n",
      "Epoch 35, CIFAR-10 Batch 5:  Loss: 0.3149 Validation_accuracy: 0.8911\n",
      "Epoch 36, CIFAR-10 Batch 1:  Loss: 0.3204 Validation_accuracy: 0.8886\n",
      "Epoch 36, CIFAR-10 Batch 2:  Loss: 0.3066 Validation_accuracy: 0.9097\n",
      "Epoch 36, CIFAR-10 Batch 3:  Loss: 0.2868 Validation_accuracy: 0.9109\n",
      "Epoch 36, CIFAR-10 Batch 4:  Loss: 0.3208 Validation_accuracy: 0.9022\n",
      "Epoch 36, CIFAR-10 Batch 5:  Loss: 0.2980 Validation_accuracy: 0.9072\n",
      "Epoch 37, CIFAR-10 Batch 1:  Loss: 0.2941 Validation_accuracy: 0.8973\n",
      "Epoch 37, CIFAR-10 Batch 2:  Loss: 0.3275 Validation_accuracy: 0.9072\n",
      "Epoch 37, CIFAR-10 Batch 3:  Loss: 0.2859 Validation_accuracy: 0.9084\n",
      "Epoch 37, CIFAR-10 Batch 4:  Loss: 0.3080 Validation_accuracy: 0.9183\n",
      "Epoch 37, CIFAR-10 Batch 5:  Loss: 0.3037 Validation_accuracy: 0.9059\n",
      "Epoch 38, CIFAR-10 Batch 1:  Loss: 0.2920 Validation_accuracy: 0.8998\n",
      "Epoch 38, CIFAR-10 Batch 2:  Loss: 0.2786 Validation_accuracy: 0.9245\n",
      "Epoch 38, CIFAR-10 Batch 3:  Loss: 0.2553 Validation_accuracy: 0.9183\n",
      "Epoch 38, CIFAR-10 Batch 4:  Loss: 0.2991 Validation_accuracy: 0.9072\n",
      "Epoch 38, CIFAR-10 Batch 5:  Loss: 0.2688 Validation_accuracy: 0.9097\n",
      "Epoch 39, CIFAR-10 Batch 1:  Loss: 0.2888 Validation_accuracy: 0.9022\n",
      "Epoch 39, CIFAR-10 Batch 2:  Loss: 0.2527 Validation_accuracy: 0.9344\n",
      "Epoch 39, CIFAR-10 Batch 3:  Loss: 0.2399 Validation_accuracy: 0.9319\n",
      "Epoch 39, CIFAR-10 Batch 4:  Loss: 0.2734 Validation_accuracy: 0.9220\n",
      "Epoch 39, CIFAR-10 Batch 5:  Loss: 0.2620 Validation_accuracy: 0.9171\n",
      "Epoch 40, CIFAR-10 Batch 1:  Loss: 0.2563 Validation_accuracy: 0.9146\n",
      "Epoch 40, CIFAR-10 Batch 2:  Loss: 0.2550 Validation_accuracy: 0.9270\n",
      "Epoch 40, CIFAR-10 Batch 3:  Loss: 0.2502 Validation_accuracy: 0.9270\n",
      "Epoch 40, CIFAR-10 Batch 4:  Loss: 0.2620 Validation_accuracy: 0.9183\n",
      "Epoch 40, CIFAR-10 Batch 5:  Loss: 0.2532 Validation_accuracy: 0.9183\n",
      "Epoch 41, CIFAR-10 Batch 1:  Loss: 0.2544 Validation_accuracy: 0.9146\n",
      "Epoch 41, CIFAR-10 Batch 2:  Loss: 0.2418 Validation_accuracy: 0.9270\n",
      "Epoch 41, CIFAR-10 Batch 3:  Loss: 0.2463 Validation_accuracy: 0.9208\n",
      "Epoch 41, CIFAR-10 Batch 4:  Loss: 0.2280 Validation_accuracy: 0.9332\n",
      "Epoch 41, CIFAR-10 Batch 5:  Loss: 0.2279 Validation_accuracy: 0.9233\n",
      "Epoch 42, CIFAR-10 Batch 1:  Loss: 0.2356 Validation_accuracy: 0.9220\n",
      "Epoch 42, CIFAR-10 Batch 2:  Loss: 0.2612 Validation_accuracy: 0.9196\n",
      "Epoch 42, CIFAR-10 Batch 3:  Loss: 0.2328 Validation_accuracy: 0.9208\n",
      "Epoch 42, CIFAR-10 Batch 4:  Loss: 0.2137 Validation_accuracy: 0.9406\n",
      "Epoch 42, CIFAR-10 Batch 5:  Loss: 0.2253 Validation_accuracy: 0.9307\n",
      "Epoch 43, CIFAR-10 Batch 1:  Loss: 0.2108 Validation_accuracy: 0.9307\n",
      "Epoch 43, CIFAR-10 Batch 2:  Loss: 0.2332 Validation_accuracy: 0.9344\n",
      "Epoch 43, CIFAR-10 Batch 3:  Loss: 0.2103 Validation_accuracy: 0.9480\n",
      "Epoch 43, CIFAR-10 Batch 4:  Loss: 0.2397 Validation_accuracy: 0.9208\n",
      "Epoch 43, CIFAR-10 Batch 5:  Loss: 0.2192 Validation_accuracy: 0.9270\n",
      "Epoch 44, CIFAR-10 Batch 1:  Loss: 0.2225 Validation_accuracy: 0.9406\n",
      "Epoch 44, CIFAR-10 Batch 2:  Loss: 0.2192 Validation_accuracy: 0.9332\n",
      "Epoch 44, CIFAR-10 Batch 3:  Loss: 0.2389 Validation_accuracy: 0.9270\n",
      "Epoch 44, CIFAR-10 Batch 4:  Loss: 0.2276 Validation_accuracy: 0.9208\n",
      "Epoch 44, CIFAR-10 Batch 5:  Loss: 0.2156 Validation_accuracy: 0.9406\n",
      "Epoch 45, CIFAR-10 Batch 1:  Loss: 0.2118 Validation_accuracy: 0.9356\n",
      "Epoch 45, CIFAR-10 Batch 2:  Loss: 0.2170 Validation_accuracy: 0.9381\n",
      "Epoch 45, CIFAR-10 Batch 3:  Loss: 0.1943 Validation_accuracy: 0.9493\n",
      "Epoch 45, CIFAR-10 Batch 4:  Loss: 0.2214 Validation_accuracy: 0.9282\n",
      "Epoch 45, CIFAR-10 Batch 5:  Loss: 0.2371 Validation_accuracy: 0.9282\n",
      "Epoch 46, CIFAR-10 Batch 1:  Loss: 0.2103 Validation_accuracy: 0.9431\n",
      "Epoch 46, CIFAR-10 Batch 2:  Loss: 0.2002 Validation_accuracy: 0.9406\n",
      "Epoch 46, CIFAR-10 Batch 3:  Loss: 0.2490 Validation_accuracy: 0.9183\n",
      "Epoch 46, CIFAR-10 Batch 4:  Loss: 0.2144 Validation_accuracy: 0.9356\n",
      "Epoch 46, CIFAR-10 Batch 5:  Loss: 0.1912 Validation_accuracy: 0.9455\n",
      "Epoch 47, CIFAR-10 Batch 1:  Loss: 0.1981 Validation_accuracy: 0.9369\n",
      "Epoch 47, CIFAR-10 Batch 2:  Loss: 0.2089 Validation_accuracy: 0.9319\n",
      "Epoch 47, CIFAR-10 Batch 3:  Loss: 0.2090 Validation_accuracy: 0.9455\n",
      "Epoch 47, CIFAR-10 Batch 4:  Loss: 0.1831 Validation_accuracy: 0.9418\n"
     ]
    },
    {
     "name": "stdout",
     "output_type": "stream",
     "text": [
      "Epoch 47, CIFAR-10 Batch 5:  Loss: 0.1731 Validation_accuracy: 0.9517\n",
      "Epoch 48, CIFAR-10 Batch 1:  Loss: 0.2158 Validation_accuracy: 0.9381\n",
      "Epoch 48, CIFAR-10 Batch 2:  Loss: 0.2038 Validation_accuracy: 0.9431\n",
      "Epoch 48, CIFAR-10 Batch 3:  Loss: 0.2322 Validation_accuracy: 0.9344\n",
      "Epoch 48, CIFAR-10 Batch 4:  Loss: 0.1749 Validation_accuracy: 0.9554\n",
      "Epoch 48, CIFAR-10 Batch 5:  Loss: 0.1673 Validation_accuracy: 0.9493\n",
      "Epoch 49, CIFAR-10 Batch 1:  Loss: 0.2378 Validation_accuracy: 0.9270\n",
      "Epoch 49, CIFAR-10 Batch 2:  Loss: 0.1998 Validation_accuracy: 0.9418\n",
      "Epoch 49, CIFAR-10 Batch 3:  Loss: 0.2348 Validation_accuracy: 0.9245\n",
      "Epoch 49, CIFAR-10 Batch 4:  Loss: 0.2024 Validation_accuracy: 0.9418\n",
      "Epoch 49, CIFAR-10 Batch 5:  Loss: 0.1708 Validation_accuracy: 0.9431\n",
      "Epoch 50, CIFAR-10 Batch 1:  Loss: 0.1846 Validation_accuracy: 0.9493\n",
      "Epoch 50, CIFAR-10 Batch 2:  Loss: 0.1672 Validation_accuracy: 0.9616\n",
      "Epoch 50, CIFAR-10 Batch 3:  Loss: 0.1703 Validation_accuracy: 0.9530\n",
      "Epoch 50, CIFAR-10 Batch 4:  Loss: 0.1653 Validation_accuracy: 0.9554\n",
      "Epoch 50, CIFAR-10 Batch 5:  Loss: 0.1620 Validation_accuracy: 0.9468\n"
     ]
    }
   ],
   "source": [
    "\"\"\"\n",
    "DON'T MODIFY ANYTHING IN THIS CELL\n",
    "\"\"\"\n",
    "save_model_path = './image_classification'\n",
    "\n",
    "print('Training...')\n",
    "with tf.Session() as sess:\n",
    "    # Initializing the variables\n",
    "    sess.run(tf.global_variables_initializer())\n",
    "    \n",
    "    # Training cycle\n",
    "    for epoch in range(epochs):\n",
    "        # Loop over all batches\n",
    "        n_batches = 5\n",
    "        for batch_i in range(1, n_batches + 1):\n",
    "            for batch_features, batch_labels in helper.load_preprocess_training_batch(batch_i, batch_size):\n",
    "                train_neural_network(sess, optimizer, keep_probability, batch_features, batch_labels)\n",
    "            print('Epoch {:>2}, CIFAR-10 Batch {}:  '.format(epoch + 1, batch_i), end='')\n",
    "            print_stats(sess, batch_features, batch_labels, cost, accuracy)\n",
    "            \n",
    "    # Save Model\n",
    "    saver = tf.train.Saver()\n",
    "    save_path = saver.save(sess, save_model_path)"
   ]
  },
  {
   "cell_type": "markdown",
   "metadata": {},
   "source": [
    "# Checkpoint\n",
    "The model has been saved to disk.\n",
    "## Test Model\n",
    "Test your model against the test dataset.  This will be your final accuracy. You should have an accuracy greater than 50%. If you don't, keep tweaking the model architecture and parameters."
   ]
  },
  {
   "cell_type": "code",
   "execution_count": 53,
   "metadata": {},
   "outputs": [
    {
     "name": "stdout",
     "output_type": "stream",
     "text": [
      "INFO:tensorflow:Restoring parameters from ./image_classification\n",
      "Testing Accuracy: 0.6631357610225678\n",
      "\n"
     ]
    },
    {
     "data": {
      "image/png": "[encoded data removed]",
      "text/plain": [
       "<matplotlib.figure.Figure at 0x7fbecf12fef0>"
      ]
     },
     "metadata": {
      "image/png": {
       "height": 319,
       "width": 355
      }
     },
     "output_type": "display_data"
    }
   ],
   "source": [
    "\"\"\"\n",
    "DON'T MODIFY ANYTHING IN THIS CELL\n",
    "\"\"\"\n",
    "%matplotlib inline\n",
    "%config InlineBackend.figure_format = 'retina'\n",
    "\n",
    "import tensorflow as tf\n",
    "import pickle\n",
    "import helper\n",
    "import random\n",
    "\n",
    "# Set batch size if not already set\n",
    "try:\n",
    "    if batch_size:\n",
    "        pass\n",
    "except NameError:\n",
    "    batch_size = 64\n",
    "\n",
    "save_model_path = './image_classification'\n",
    "n_samples = 4\n",
    "top_n_predictions = 3\n",
    "\n",
    "def test_model():\n",
    "    \"\"\"\n",
    "    Test the saved model against the test dataset\n",
    "    \"\"\"\n",
    "\n",
    "    test_features, test_labels = pickle.load(open('preprocess_test.p', mode='rb'))\n",
    "    loaded_graph = tf.Graph()\n",
    "\n",
    "    with tf.Session(graph=loaded_graph) as sess:\n",
    "        # Load model\n",
    "        loader = tf.train.import_meta_graph(save_model_path + '.meta')\n",
    "        loader.restore(sess, save_model_path)\n",
    "\n",
    "        # Get Tensors from loaded model\n",
    "        loaded_x = loaded_graph.get_tensor_by_name('x:0')\n",
    "        loaded_y = loaded_graph.get_tensor_by_name('y:0')\n",
    "        loaded_keep_prob = loaded_graph.get_tensor_by_name('keep_prob:0')\n",
    "        loaded_logits = loaded_graph.get_tensor_by_name('logits:0')\n",
    "        loaded_acc = loaded_graph.get_tensor_by_name('accuracy:0')\n",
    "        \n",
    "        # Get accuracy in batches for memory limitations\n",
    "        test_batch_acc_total = 0\n",
    "        test_batch_count = 0\n",
    "        \n",
    "        for test_feature_batch, test_label_batch in helper.batch_features_labels(test_features, test_labels, batch_size):\n",
    "            test_batch_acc_total += sess.run(\n",
    "                loaded_acc,\n",
    "                feed_dict={loaded_x: test_feature_batch, loaded_y: test_label_batch, loaded_keep_prob: 1.0})\n",
    "            test_batch_count += 1\n",
    "\n",
    "        print('Testing Accuracy: {}\\n'.format(test_batch_acc_total/test_batch_count))\n",
    "\n",
    "        # Print Random Samples\n",
    "        random_test_features, random_test_labels = tuple(zip(*random.sample(list(zip(test_features, test_labels)), n_samples)))\n",
    "        random_test_predictions = sess.run(\n",
    "            tf.nn.top_k(tf.nn.softmax(loaded_logits), top_n_predictions),\n",
    "            feed_dict={loaded_x: random_test_features, loaded_y: random_test_labels, loaded_keep_prob: 1.0})\n",
    "        helper.display_image_predictions(random_test_features, random_test_labels, random_test_predictions)\n",
    "\n",
    "\n",
    "test_model()"
   ]
  },
  {
   "cell_type": "markdown",
   "metadata": {},
   "source": [
    "## Why 50-80% Accuracy?\n",
    "You might be wondering why you can't get an accuracy any higher. First things first, 50% isn't bad for a simple CNN.  Pure guessing would get you 10% accuracy. However, you might notice people are getting scores [well above 80%](http://rodrigob.github.io/are_we_there_yet/build/classification_datasets_results.html#43494641522d3130).  That's because we haven't taught you all there is to know about neural networks. We still need to cover a few more techniques.\n",
    "## Submitting This Project\n",
    "When submitting this project, make sure to run all the cells before saving the notebook.  Save the notebook file as \"dlnd_image_classification.ipynb\" and save it as a HTML file under \"File\" -> \"Download as\".  Include the \"helper.py\" and \"problem_unittests.py\" files in your submission."
   ]
  }
 ],
 "metadata": {
  "kernelspec": {
   "display_name": "Python 3",
   "language": "python",
   "name": "python3"
  },
  "language_info": {
   "codemirror_mode": {
    "name": "ipython",
    "version": 3
   },
   "file_extension": ".py",
   "mimetype": "text/x-python",
   "name": "python",
   "nbconvert_exporter": "python",
   "pygments_lexer": "ipython3",
   "version": "3.5.3"
  }
 },
 "nbformat": 4,
 "nbformat_minor": 1
}
