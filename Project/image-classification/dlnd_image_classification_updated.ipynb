{
 "cells": [
  {
   "cell_type": "markdown",
   "metadata": {
    "collapsed": true
   },
   "source": [
    "# Image Classification\n",
    "In this project, you'll classify images from the [CIFAR-10 dataset](https://www.cs.toronto.edu/~kriz/cifar.html).  The dataset consists of airplanes, dogs, cats, and other objects. You'll preprocess the images, then train a convolutional neural network on all the samples. The images need to be normalized and the labels need to be one-hot encoded.  You'll get to apply what you learned and build a convolutional, max pooling, dropout, and fully connected layers.  At the end, you'll get to see your neural network's predictions on the sample images.\n",
    "## Get the Data\n",
    "Run the following cell to download the [CIFAR-10 dataset for python](https://www.cs.toronto.edu/~kriz/cifar-10-python.tar.gz)."
   ]
  },
  {
   "cell_type": "code",
   "execution_count": 1,
   "metadata": {},
   "outputs": [
    {
     "name": "stdout",
     "output_type": "stream",
     "text": [
      "All files found!\n"
     ]
    }
   ],
   "source": [
    "\"\"\"\n",
    "DON'T MODIFY ANYTHING IN THIS CELL THAT IS BELOW THIS LINE\n",
    "\"\"\"\n",
    "from urllib.request import urlretrieve\n",
    "from os.path import isfile, isdir\n",
    "from tqdm import tqdm\n",
    "import problem_unittests as tests\n",
    "import tarfile\n",
    "\n",
    "cifar10_dataset_folder_path = 'cifar-10-batches-py'\n",
    "\n",
    "# Use Floyd's cifar-10 dataset if present\n",
    "floyd_cifar10_location = '/cifar/cifar-10-python.tar.gz'\n",
    "if isfile(floyd_cifar10_location):\n",
    "    tar_gz_path = floyd_cifar10_location\n",
    "else:\n",
    "    tar_gz_path = 'cifar-10-python.tar.gz'\n",
    "\n",
    "class DLProgress(tqdm):\n",
    "    last_block = 0\n",
    "\n",
    "    def hook(self, block_num=1, block_size=1, total_size=None):\n",
    "        self.total = total_size\n",
    "        self.update((block_num - self.last_block) * block_size)\n",
    "        self.last_block = block_num\n",
    "\n",
    "if not isfile(tar_gz_path):\n",
    "    with DLProgress(unit='B', unit_scale=True, miniters=1, desc='CIFAR-10 Dataset') as pbar:\n",
    "        urlretrieve(\n",
    "            'https://www.cs.toronto.edu/~kriz/cifar-10-python.tar.gz',\n",
    "            tar_gz_path,\n",
    "            pbar.hook)\n",
    "\n",
    "if not isdir(cifar10_dataset_folder_path):\n",
    "    with tarfile.open(tar_gz_path) as tar:\n",
    "        tar.extractall()\n",
    "        tar.close()\n",
    "\n",
    "\n",
    "tests.test_folder_path(cifar10_dataset_folder_path)"
   ]
  },
  {
   "cell_type": "markdown",
   "metadata": {},
   "source": [
    "## Explore the Data\n",
    "The dataset is broken into batches to prevent your machine from running out of memory.  The CIFAR-10 dataset consists of 5 batches, named `data_batch_1`, `data_batch_2`, etc.. Each batch contains the labels and images that are one of the following:\n",
    "* airplane\n",
    "* automobile\n",
    "* bird\n",
    "* cat\n",
    "* deer\n",
    "* dog\n",
    "* frog\n",
    "* horse\n",
    "* ship\n",
    "* truck\n",
    "\n",
    "Understanding a dataset is part of making predictions on the data.  Play around with the code cell below by changing the `batch_id` and `sample_id`. The `batch_id` is the id for a batch (1-5). The `sample_id` is the id for a image and label pair in the batch.\n",
    "\n",
    "Ask yourself \"What are all possible labels?\", \"What is the range of values for the image data?\", \"Are the labels in order or random?\".  Answers to questions like these will help you preprocess the data and end up with better predictions."
   ]
  },
  {
   "cell_type": "code",
   "execution_count": 2,
   "metadata": {},
   "outputs": [
    {
     "name": "stdout",
     "output_type": "stream",
     "text": [
      "\n",
      "Stats of batch 1:\n",
      "Samples: 10000\n",
      "Label Counts: {0: 1005, 1: 974, 2: 1032, 3: 1016, 4: 999, 5: 937, 6: 1030, 7: 1001, 8: 1025, 9: 981}\n",
      "First 20 Labels: [6, 9, 9, 4, 1, 1, 2, 7, 8, 3, 4, 7, 7, 2, 9, 9, 9, 3, 2, 6]\n",
      "\n",
      "Example of Image 5:\n",
      "Image - Min Value: 0 Max Value: 252\n",
      "Image - Shape: (32, 32, 3)\n",
      "Label - Label Id: 1 Name: automobile\n"
     ]
    },
    {
     "data": {
      "image/png": "[encoded data removed]",
      "text/plain": [
       "<matplotlib.figure.Figure at 0x7fb804244438>"
      ]
     },
     "metadata": {
      "image/png": {
       "height": 250,
       "width": 253
      }
     },
     "output_type": "display_data"
    }
   ],
   "source": [
    "%matplotlib inline\n",
    "%config InlineBackend.figure_format = 'retina'\n",
    "\n",
    "import helper\n",
    "import numpy as np\n",
    "\n",
    "# Explore the dataset\n",
    "batch_id = 1\n",
    "sample_id = 5\n",
    "helper.display_stats(cifar10_dataset_folder_path, batch_id, sample_id)"
   ]
  },
  {
   "cell_type": "markdown",
   "metadata": {},
   "source": [
    "## Implement Preprocess Functions\n",
    "### Normalize\n",
    "In the cell below, implement the `normalize` function to take in image data, `x`, and return it as a normalized Numpy array. The values should be in the range of 0 to 1, inclusive.  The return object should be the same shape as `x`."
   ]
  },
  {
   "cell_type": "code",
   "execution_count": 3,
   "metadata": {},
   "outputs": [
    {
     "name": "stdout",
     "output_type": "stream",
     "text": [
      "Tests Passed\n"
     ]
    }
   ],
   "source": [
    "def normalize(x):\n",
    "    \"\"\"\n",
    "    Normalize a list of sample image data in the range of 0 to 1\n",
    "    : x: List of image data.  The image shape is (32, 32, 3)\n",
    "    : return: Numpy array of normalize data\n",
    "    \"\"\"\n",
    "    # TODO: Implement Function\n",
    "    x_max=np.max(x)\n",
    "    x_min=np.min(x)\n",
    "    \n",
    "    return (x-x_min)/(x_max-x_min)\n",
    "\n",
    "\n",
    "\"\"\"\n",
    "DON'T MODIFY ANYTHING IN THIS CELL THAT IS BELOW THIS LINE\n",
    "\"\"\"\n",
    "tests.test_normalize(normalize)"
   ]
  },
  {
   "cell_type": "markdown",
   "metadata": {},
   "source": [
    "### One-hot encode\n",
    "Just like the previous code cell, you'll be implementing a function for preprocessing.  This time, you'll implement the `one_hot_encode` function. The input, `x`, are a list of labels.  Implement the function to return the list of labels as One-Hot encoded Numpy array.  The possible values for labels are 0 to 9. The one-hot encoding function should return the same encoding for each value between each call to `one_hot_encode`.  Make sure to save the map of encodings outside the function.\n",
    "\n",
    "Hint: Don't reinvent the wheel."
   ]
  },
  {
   "cell_type": "code",
   "execution_count": 4,
   "metadata": {},
   "outputs": [
    {
     "name": "stdout",
     "output_type": "stream",
     "text": [
      "Tests Passed\n"
     ]
    }
   ],
   "source": [
    "one_hot_encode_map = np.eye(10)\n",
    "def one_hot_encode(x):\n",
    "    \"\"\"\n",
    "    One hot encode a list of sample labels. Return a one-hot encoded vector for each label.\n",
    "    : x: List of sample Labels\n",
    "    : return: Numpy array of one-hot encoded labels\n",
    "    \"\"\"\n",
    "    # TODO: Implement Function\n",
    "    return one_hot_encode_map[x]\n",
    "\n",
    "\n",
    "\"\"\"\n",
    "DON'T MODIFY ANYTHING IN THIS CELL THAT IS BELOW THIS LINE\n",
    "\"\"\"\n",
    "tests.test_one_hot_encode(one_hot_encode)"
   ]
  },
  {
   "cell_type": "markdown",
   "metadata": {},
   "source": [
    "### Randomize Data\n",
    "As you saw from exploring the data above, the order of the samples are randomized.  It doesn't hurt to randomize it again, but you don't need to for this dataset."
   ]
  },
  {
   "cell_type": "markdown",
   "metadata": {},
   "source": [
    "## Preprocess all the data and save it\n",
    "Running the code cell below will preprocess all the CIFAR-10 data and save it to file. The code below also uses 10% of the training data for validation."
   ]
  },
  {
   "cell_type": "code",
   "execution_count": 5,
   "metadata": {
    "collapsed": true
   },
   "outputs": [],
   "source": [
    "\"\"\"\n",
    "DON'T MODIFY ANYTHING IN THIS CELL\n",
    "\"\"\"\n",
    "# Preprocess Training, Validation, and Testing Data\n",
    "helper.preprocess_and_save_data(cifar10_dataset_folder_path, normalize, one_hot_encode)"
   ]
  },
  {
   "cell_type": "markdown",
   "metadata": {},
   "source": [
    "# Check Point\n",
    "This is your first checkpoint.  If you ever decide to come back to this notebook or have to restart the notebook, you can start from here.  The preprocessed data has been saved to disk."
   ]
  },
  {
   "cell_type": "code",
   "execution_count": 6,
   "metadata": {
    "collapsed": true
   },
   "outputs": [],
   "source": [
    "\"\"\"\n",
    "DON'T MODIFY ANYTHING IN THIS CELL\n",
    "\"\"\"\n",
    "import pickle\n",
    "import problem_unittests as tests\n",
    "import helper\n",
    "\n",
    "# Load the Preprocessed Validation data\n",
    "valid_features, valid_labels = pickle.load(open('preprocess_validation.p', mode='rb'))"
   ]
  },
  {
   "cell_type": "markdown",
   "metadata": {},
   "source": [
    "## Build the network\n",
    "For the neural network, you'll build each layer into a function.  Most of the code you've seen has been outside of functions. To test your code more thoroughly, we require that you put each layer in a function.  This allows us to give you better feedback and test for simple mistakes using our unittests before you submit your project.\n",
    "\n",
    ">**Note:** If you're finding it hard to dedicate enough time for this course each week, we've provided a small shortcut to this part of the project. In the next couple of problems, you'll have the option to use classes from the [TensorFlow Layers](https://www.tensorflow.org/api_docs/python/tf/layers) or [TensorFlow Layers (contrib)](https://www.tensorflow.org/api_guides/python/contrib.layers) packages to build each layer, except the layers you build in the \"Convolutional and Max Pooling Layer\" section.  TF Layers is similar to Keras's and TFLearn's abstraction to layers, so it's easy to pickup.\n",
    "\n",
    ">However, if you would like to get the most out of this course, try to solve all the problems _without_ using anything from the TF Layers packages. You **can** still use classes from other packages that happen to have the same name as ones you find in TF Layers! For example, instead of using the TF Layers version of the `conv2d` class, [tf.layers.conv2d](https://www.tensorflow.org/api_docs/python/tf/layers/conv2d), you would want to use the TF Neural Network version of `conv2d`, [tf.nn.conv2d](https://www.tensorflow.org/api_docs/python/tf/nn/conv2d). \n",
    "\n",
    "Let's begin!\n",
    "\n",
    "### Input\n",
    "The neural network needs to read the image data, one-hot encoded labels, and dropout keep probability. Implement the following functions\n",
    "* Implement `neural_net_image_input`\n",
    " * Return a [TF Placeholder](https://www.tensorflow.org/api_docs/python/tf/placeholder)\n",
    " * Set the shape using `image_shape` with batch size set to `None`.\n",
    " * Name the TensorFlow placeholder \"x\" using the TensorFlow `name` parameter in the [TF Placeholder](https://www.tensorflow.org/api_docs/python/tf/placeholder).\n",
    "* Implement `neural_net_label_input`\n",
    " * Return a [TF Placeholder](https://www.tensorflow.org/api_docs/python/tf/placeholder)\n",
    " * Set the shape using `n_classes` with batch size set to `None`.\n",
    " * Name the TensorFlow placeholder \"y\" using the TensorFlow `name` parameter in the [TF Placeholder](https://www.tensorflow.org/api_docs/python/tf/placeholder).\n",
    "* Implement `neural_net_keep_prob_input`\n",
    " * Return a [TF Placeholder](https://www.tensorflow.org/api_docs/python/tf/placeholder) for dropout keep probability.\n",
    " * Name the TensorFlow placeholder \"keep_prob\" using the TensorFlow `name` parameter in the [TF Placeholder](https://www.tensorflow.org/api_docs/python/tf/placeholder).\n",
    "\n",
    "These names will be used at the end of the project to load your saved model.\n",
    "\n",
    "Note: `None` for shapes in TensorFlow allow for a dynamic size."
   ]
  },
  {
   "cell_type": "code",
   "execution_count": 7,
   "metadata": {},
   "outputs": [
    {
     "name": "stdout",
     "output_type": "stream",
     "text": [
      "Image Input Tests Passed.\n",
      "Label Input Tests Passed.\n",
      "Keep Prob Tests Passed.\n"
     ]
    }
   ],
   "source": [
    "import tensorflow as tf\n",
    "\n",
    "def neural_net_image_input(image_shape):\n",
    "    \"\"\"\n",
    "    Return a Tensor for a batch of image input\n",
    "    : image_shape: Shape of the images\n",
    "    : return: Tensor for image input.\n",
    "    \"\"\"\n",
    "    # TODO: Implement Function\n",
    "    return tf.placeholder(tf.float32, [None,*image_shape],name='x')\n",
    "\n",
    "\n",
    "def neural_net_label_input(n_classes):\n",
    "    \"\"\"\n",
    "    Return a Tensor for a batch of label input\n",
    "    : n_classes: Number of classes\n",
    "    : return: Tensor for label input.\n",
    "    \"\"\"\n",
    "    # TODO: Implement Function\n",
    "    return tf.placeholder(tf.float32, (None, n_classes), name='y')\n",
    "\n",
    "\n",
    "def neural_net_keep_prob_input():\n",
    "    \"\"\"\n",
    "    Return a Tensor for keep probability\n",
    "    : return: Tensor for keep probability.\n",
    "    \"\"\"\n",
    "    # TODO: Implement Function\n",
    "    return tf.placeholder(tf.float32, name='keep_prob')\n",
    "\n",
    "\n",
    "\"\"\"\n",
    "DON'T MODIFY ANYTHING IN THIS CELL THAT IS BELOW THIS LINE\n",
    "\"\"\"\n",
    "tf.reset_default_graph()\n",
    "tests.test_nn_image_inputs(neural_net_image_input)\n",
    "tests.test_nn_label_inputs(neural_net_label_input)\n",
    "tests.test_nn_keep_prob_inputs(neural_net_keep_prob_input)"
   ]
  },
  {
   "cell_type": "markdown",
   "metadata": {},
   "source": [
    "### Convolution and Max Pooling Layer\n",
    "Convolution layers have a lot of success with images. For this code cell, you should implement the function `conv2d_maxpool` to apply convolution then max pooling:\n",
    "* Create the weight and bias using `conv_ksize`, `conv_num_outputs` and the shape of `x_tensor`.\n",
    "* Apply a convolution to `x_tensor` using weight and `conv_strides`.\n",
    " * We recommend you use same padding, but you're welcome to use any padding.\n",
    "* Add bias\n",
    "* Add a nonlinear activation to the convolution.\n",
    "* Apply Max Pooling using `pool_ksize` and `pool_strides`.\n",
    " * We recommend you use same padding, but you're welcome to use any padding.\n",
    "\n",
    "**Note:** You **can't** use [TensorFlow Layers](https://www.tensorflow.org/api_docs/python/tf/layers) or [TensorFlow Layers (contrib)](https://www.tensorflow.org/api_guides/python/contrib.layers) for **this** layer, but you can still use TensorFlow's [Neural Network](https://www.tensorflow.org/api_docs/python/tf/nn) package. You may still use the shortcut option for all the **other** layers."
   ]
  },
  {
   "cell_type": "code",
   "execution_count": 8,
   "metadata": {},
   "outputs": [
    {
     "name": "stdout",
     "output_type": "stream",
     "text": [
      "Tests Passed\n"
     ]
    }
   ],
   "source": [
    "def conv2d_maxpool(x_tensor, conv_num_outputs, conv_ksize, conv_strides, pool_ksize, pool_strides):\n",
    "    \"\"\"\n",
    "    Apply convolution then max pooling to x_tensor\n",
    "    :param x_tensor: TensorFlow Tensor\n",
    "    :param conv_num_outputs: Number of outputs for the convolutional layer\n",
    "    :param conv_ksize: kernal size 2-D Tuple for the convolutional layer\n",
    "    :param conv_strides: Stride 2-D Tuple for convolution\n",
    "    :param pool_ksize: kernal size 2-D Tuple for pool\n",
    "    :param pool_strides: Stride 2-D Tuple for pool\n",
    "    : return: A tensor that represents convolution and max pooling of x_tensor\n",
    "    \"\"\"\n",
    "    # TODO: Implement Function\n",
    "    input_shape = x_tensor.get_shape().as_list()\n",
    "    input_depth = input_shape[3]\n",
    "    \n",
    "    weights = tf.Variable(tf.truncated_normal((*conv_ksize, input_depth, conv_num_outputs),mean=0,stddev=.1))\n",
    "    bias= tf.Variable(tf.zeros(conv_num_outputs))\n",
    "    \n",
    "    # convolution\n",
    "    conv_layer = tf.nn.conv2d(x_tensor,weights,strides=[1, conv_strides[0], conv_strides[1], 1],padding='SAME')\n",
    "    conv_layer2 = tf.nn.bias_add(conv_layer, bias)\n",
    "    relu_layer = tf.nn.relu(conv_layer2)\n",
    "    \n",
    "    # max pooling\n",
    "    maxpool_layer = tf.nn.max_pool(relu_layer,ksize=[1, pool_ksize[0], pool_ksize[1], 1],strides=[1, pool_strides[0], pool_strides[1], 1],padding='SAME')\n",
    "    return maxpool_layer \n",
    "\n",
    "\n",
    "\"\"\"\n",
    "DON'T MODIFY ANYTHING IN THIS CELL THAT IS BELOW THIS LINE\n",
    "\"\"\"\n",
    "tests.test_con_pool(conv2d_maxpool)"
   ]
  },
  {
   "cell_type": "markdown",
   "metadata": {},
   "source": [
    "### Flatten Layer\n",
    "Implement the `flatten` function to change the dimension of `x_tensor` from a 4-D tensor to a 2-D tensor.  The output should be the shape (*Batch Size*, *Flattened Image Size*). Shortcut option: you can use classes from the [TensorFlow Layers](https://www.tensorflow.org/api_docs/python/tf/layers) or [TensorFlow Layers (contrib)](https://www.tensorflow.org/api_guides/python/contrib.layers) packages for this layer. For more of a challenge, only use other TensorFlow packages."
   ]
  },
  {
   "cell_type": "code",
   "execution_count": 9,
   "metadata": {},
   "outputs": [
    {
     "name": "stdout",
     "output_type": "stream",
     "text": [
      "Tests Passed\n"
     ]
    }
   ],
   "source": [
    "def flatten(x_tensor):\n",
    "    \"\"\"\n",
    "    Flatten x_tensor to (Batch Size, Flattened Image Size)\n",
    "    : x_tensor: A tensor of size (Batch Size, ...), where ... are the image dimensions.\n",
    "    : return: A tensor of size (Batch Size, Flattened Image Size).\n",
    "    \"\"\"\n",
    "    # TODO: Implement Function\n",
    "    return tf.contrib.layers.flatten(x_tensor)\n",
    "   \n",
    "\"\"\"\n",
    "DON'T MODIFY ANYTHING IN THIS CELL THAT IS BELOW THIS LINE\n",
    "\"\"\"\n",
    "tests.test_flatten(flatten)"
   ]
  },
  {
   "cell_type": "markdown",
   "metadata": {},
   "source": [
    "### Fully-Connected Layer\n",
    "Implement the `fully_conn` function to apply a fully connected layer to `x_tensor` with the shape (*Batch Size*, *num_outputs*). Shortcut option: you can use classes from the [TensorFlow Layers](https://www.tensorflow.org/api_docs/python/tf/layers) or [TensorFlow Layers (contrib)](https://www.tensorflow.org/api_guides/python/contrib.layers) packages for this layer. For more of a challenge, only use other TensorFlow packages."
   ]
  },
  {
   "cell_type": "code",
   "execution_count": 10,
   "metadata": {},
   "outputs": [
    {
     "name": "stdout",
     "output_type": "stream",
     "text": [
      "Tests Passed\n"
     ]
    }
   ],
   "source": [
    "def fully_conn(x_tensor, num_outputs):\n",
    "    \"\"\"\n",
    "    Apply a fully connected layer to x_tensor using weight and bias\n",
    "    : x_tensor: A 2-D tensor where the first dimension is batch size.\n",
    "    : num_outputs: The number of output that the new tensor should be.\n",
    "    : return: A 2-D tensor where the second dimension is num_outputs.\n",
    "    \"\"\"\n",
    "    # TODO: Implement Function\n",
    "    conn_shape = x_tensor.get_shape().as_list()\n",
    "    weights = tf.Variable(tf.truncated_normal((conn_shape[1], num_outputs), mean=0,stddev=0.1))\n",
    "    bias = tf.Variable(tf.zeros(num_outputs))\n",
    "    \n",
    "    fully_conn_layer = tf.matmul(x_tensor, weights) + bias\n",
    "    relu_layer = tf.nn.relu(fully_conn_layer)\n",
    "    \n",
    "    return relu_layer\n",
    "   \n",
    "\"\"\"\n",
    "DON'T MODIFY ANYTHING IN THIS CELL THAT IS BELOW THIS LINE\n",
    "\"\"\"\n",
    "tests.test_fully_conn(fully_conn)"
   ]
  },
  {
   "cell_type": "markdown",
   "metadata": {},
   "source": [
    "### Output Layer\n",
    "Implement the `output` function to apply a fully connected layer to `x_tensor` with the shape (*Batch Size*, *num_outputs*). Shortcut option: you can use classes from the [TensorFlow Layers](https://www.tensorflow.org/api_docs/python/tf/layers) or [TensorFlow Layers (contrib)](https://www.tensorflow.org/api_guides/python/contrib.layers) packages for this layer. For more of a challenge, only use other TensorFlow packages.\n",
    "\n",
    "**Note:** Activation, softmax, or cross entropy should **not** be applied to this."
   ]
  },
  {
   "cell_type": "code",
   "execution_count": 11,
   "metadata": {},
   "outputs": [
    {
     "name": "stdout",
     "output_type": "stream",
     "text": [
      "Tests Passed\n"
     ]
    }
   ],
   "source": [
    "def output(x_tensor, num_outputs):\n",
    "    \"\"\"\n",
    "    Apply a output layer to x_tensor using weight and bias\n",
    "    : x_tensor: A 2-D tensor where the first dimension is batch size.\n",
    "    : num_outputs: The number of output that the new tensor should be.\n",
    "    : return: A 2-D tensor where the second dimension is num_outputs.\n",
    "    \"\"\"\n",
    "    # TODO: Implement Function\n",
    "    output_shape = x_tensor.get_shape().as_list()\n",
    "    weights = tf.Variable(tf.truncated_normal((output_shape[1], num_outputs), mean=0,stddev=0.1))\n",
    "    bias = tf.Variable(tf.zeros(num_outputs))\n",
    "    \n",
    "    output_layer = tf.matmul(x_tensor, weights) + bias\n",
    "    \n",
    "    return output_layer\n",
    "   \n",
    "\"\"\"\n",
    "DON'T MODIFY ANYTHING IN THIS CELL THAT IS BELOW THIS LINE\n",
    "\"\"\"\n",
    "tests.test_output(output)"
   ]
  },
  {
   "cell_type": "markdown",
   "metadata": {},
   "source": [
    "### Create Convolutional Model\n",
    "Implement the function `conv_net` to create a convolutional neural network model. The function takes in a batch of images, `x`, and outputs logits.  Use the layers you created above to create this model:\n",
    "\n",
    "* Apply 1, 2, or 3 Convolution and Max Pool layers\n",
    "* Apply a Flatten Layer\n",
    "* Apply 1, 2, or 3 Fully Connected Layers\n",
    "* Apply an Output Layer\n",
    "* Return the output\n",
    "* Apply [TensorFlow's Dropout](https://www.tensorflow.org/api_docs/python/tf/nn/dropout) to one or more layers in the model using `keep_prob`. "
   ]
  },
  {
   "cell_type": "code",
   "execution_count": 12,
   "metadata": {},
   "outputs": [
    {
     "name": "stdout",
     "output_type": "stream",
     "text": [
      "Neural Network Built!\n"
     ]
    }
   ],
   "source": [
    "def conv_net(x, keep_prob):\n",
    "    \"\"\"\n",
    "    Create a convolutional neural network model\n",
    "    : x: Placeholder tensor that holds image data.\n",
    "    : keep_prob: Placeholder tensor that hold dropout keep probability.\n",
    "    : return: Tensor that represents logits\n",
    "    \"\"\"\n",
    "    # TODO: Apply 1, 2, or 3 Convolution and Max Pool layers\n",
    "    #    Play around with different number of outputs, kernel size and stride\n",
    "    # Function Definition from Above:\n",
    "    #    conv2d_maxpool(x_tensor, conv_num_outputs, conv_ksize, conv_strides, pool_ksize, pool_strides)\n",
    "    maxpool_layer1 = conv2d_maxpool(x, 32, (3, 3), (2, 2), (2, 2), (1, 1))\n",
    "    maxpool_layer2 = conv2d_maxpool(maxpool_layer1, 64, (2, 2), (2, 2), (2, 2), (1, 1))\n",
    "    maxpool_layer3 = conv2d_maxpool(maxpool_layer2, 128, (2, 2), (2, 2), (2, 2), (1, 1))\n",
    "\n",
    "    # TODO: Apply a Flatten Layer\n",
    "    # Function Definition from Above:\n",
    "    #   flatten(x_tensor)\n",
    "    flatten_layer = flatten(maxpool_layer3)\n",
    "\n",
    "    # TODO: Apply 1, 2, or 3 Fully Connected Layers\n",
    "    #    Play around with different number of outputs\n",
    "    # Function Definition from Above:\n",
    "    #   fully_conn(x_tensor, num_outputs)\n",
    "    fully_conn_layer = fully_conn(flatten_layer, 512)\n",
    "    dropout_layer = tf.nn.dropout(fully_conn_layer, keep_prob)\n",
    "    fully_conn_layer2 = fully_conn(dropout_layer, 256)\n",
    "    dropout_layer2 = tf.nn.dropout(fully_conn_layer2, keep_prob)\n",
    "    fully_conn_layer3 = fully_conn(dropout_layer2, 128)\n",
    "    dropout_layer3 = tf.nn.dropout(fully_conn_layer3, keep_prob)\n",
    "    \n",
    "    # TODO: Apply an Output Layer\n",
    "    #    Set this to the number of classes\n",
    "    # Function Definition from Above:\n",
    "    #   output(x_tensor, num_outputs)\n",
    "    out_layer = output(dropout_layer3, 10)\n",
    "    \n",
    "    # TODO: return output\n",
    "    # 3 Convolution and Max Pool layers\n",
    "    # conv2d_maxpool(x_tensor, conv_num_outputs, conv_ksize, conv_strides, pool_ksize, pool_strides)\n",
    "    return out_layer \n",
    "\"\"\"\n",
    "DON'T MODIFY ANYTHING IN THIS CELL THAT IS BELOW THIS LINE\n",
    "\"\"\"\n",
    "\n",
    "##############################\n",
    "## Build the Neural Network ##\n",
    "##############################\n",
    "\n",
    "# Remove previous weights, bias, inputs, etc..\n",
    "tf.reset_default_graph()\n",
    "\n",
    "# Inputs\n",
    "x = neural_net_image_input((32, 32, 3))\n",
    "y = neural_net_label_input(10)\n",
    "keep_prob = neural_net_keep_prob_input()\n",
    "\n",
    "# Model\n",
    "logits = conv_net(x, keep_prob)\n",
    "\n",
    "# Name logits Tensor, so that is can be loaded from disk after training\n",
    "logits = tf.identity(logits, name='logits')\n",
    "\n",
    "# Loss and Optimizer\n",
    "cost = tf.reduce_mean(tf.nn.softmax_cross_entropy_with_logits(logits=logits, labels=y))\n",
    "optimizer = tf.train.AdamOptimizer().minimize(cost)\n",
    "\n",
    "# Accuracy\n",
    "correct_pred = tf.equal(tf.argmax(logits, 1), tf.argmax(y, 1))\n",
    "accuracy = tf.reduce_mean(tf.cast(correct_pred, tf.float32), name='accuracy')\n",
    "\n",
    "tests.test_conv_net(conv_net)"
   ]
  },
  {
   "cell_type": "markdown",
   "metadata": {},
   "source": [
    "## Train the Neural Network\n",
    "### Single Optimization\n",
    "Implement the function `train_neural_network` to do a single optimization.  The optimization should use `optimizer` to optimize in `session` with a `feed_dict` of the following:\n",
    "* `x` for image input\n",
    "* `y` for labels\n",
    "* `keep_prob` for keep probability for dropout\n",
    "\n",
    "This function will be called for each batch, so `tf.global_variables_initializer()` has already been called.\n",
    "\n",
    "Note: Nothing needs to be returned. This function is only optimizing the neural network."
   ]
  },
  {
   "cell_type": "code",
   "execution_count": 13,
   "metadata": {},
   "outputs": [
    {
     "name": "stdout",
     "output_type": "stream",
     "text": [
      "Tests Passed\n"
     ]
    }
   ],
   "source": [
    "def train_neural_network(session, optimizer, keep_probability, feature_batch, label_batch):\n",
    "    \"\"\"\n",
    "    Optimize the session on a batch of images and labels\n",
    "    : session: Current TensorFlow session\n",
    "    : optimizer: TensorFlow optimizer function\n",
    "    : keep_probability: keep probability\n",
    "    : feature_batch: Batch of Numpy image data\n",
    "    : label_batch: Batch of Numpy label data\n",
    "    \"\"\"\n",
    "    # TODO: Implement Function\n",
    "    session.run(optimizer,feed_dict={x: feature_batch,y: label_batch,keep_prob: keep_probability})\n",
    "\n",
    "\n",
    "\"\"\"\n",
    "DON'T MODIFY ANYTHING IN THIS CELL THAT IS BELOW THIS LINE\n",
    "\"\"\"\n",
    "tests.test_train_nn(train_neural_network)"
   ]
  },
  {
   "cell_type": "markdown",
   "metadata": {},
   "source": [
    "### Show Stats\n",
    "Implement the function `print_stats` to print loss and validation accuracy.  Use the global variables `valid_features` and `valid_labels` to calculate validation accuracy.  Use a keep probability of `1.0` to calculate the loss and validation accuracy."
   ]
  },
  {
   "cell_type": "code",
   "execution_count": 20,
   "metadata": {
    "collapsed": true
   },
   "outputs": [],
   "source": [
    "def print_stats(session, feature_batch, label_batch, cost, accuracy):\n",
    "    \"\"\"\n",
    "    Print information about loss and validation accuracy\n",
    "    : session: Current TensorFlow session\n",
    "    : feature_batch: Batch of Numpy image data\n",
    "    : label_batch: Batch of Numpy label data\n",
    "    : cost: TensorFlow cost function\n",
    "    : accuracy: TensorFlow accuracy function\n",
    "    \"\"\"\n",
    "    # TODO: Implement Function\n",
    "    loss=session.run(cost,feed_dict={x:feature_batch,y:label_batch,keep_prob:1.0})\n",
    "   \n",
    "    validation_accuracy = session.run(accuracy, feed_dict={x:valid_features, y: valid_labels,keep_prob:1.0})\n",
    "    \n",
    "    print(\"Loss: {:.4f} Validation_accuracy: {:.4f}\".format(loss, validation_accuracy))"
   ]
  },
  {
   "cell_type": "markdown",
   "metadata": {},
   "source": [
    "### Hyperparameters\n",
    "Tune the following parameters:\n",
    "* Set `epochs` to the number of iterations until the network stops learning or start overfitting\n",
    "* Set `batch_size` to the highest number that your machine has memory for.  Most people set them to common sizes of memory:\n",
    " * 64\n",
    " * 128\n",
    " * 256\n",
    " * ...\n",
    "* Set `keep_probability` to the probability of keeping a node using dropout"
   ]
  },
  {
   "cell_type": "code",
   "execution_count": 21,
   "metadata": {
    "collapsed": true
   },
   "outputs": [],
   "source": [
    "# TODO: Tune Parameters\n",
    "epochs = 50\n",
    "batch_size = 1024\n",
    "keep_probability = 0.6"
   ]
  },
  {
   "cell_type": "markdown",
   "metadata": {},
   "source": [
    "### Train on a Single CIFAR-10 Batch\n",
    "Instead of training the neural network on all the CIFAR-10 batches of data, let's use a single batch. This should save time while you iterate on the model to get a better accuracy.  Once the final validation accuracy is 50% or greater, run the model on all the data in the next section."
   ]
  },
  {
   "cell_type": "code",
   "execution_count": 22,
   "metadata": {},
   "outputs": [
    {
     "name": "stdout",
     "output_type": "stream",
     "text": [
      "Checking the Training on a Single Batch...\n",
      "Epoch  1, CIFAR-10 Batch 1:  Loss: 2.2834 Validation_accuracy: 0.1390\n",
      "Epoch  2, CIFAR-10 Batch 1:  Loss: 2.2389 Validation_accuracy: 0.2416\n",
      "Epoch  3, CIFAR-10 Batch 1:  Loss: 2.0970 Validation_accuracy: 0.2350\n",
      "Epoch  4, CIFAR-10 Batch 1:  Loss: 1.9537 Validation_accuracy: 0.2962\n",
      "Epoch  5, CIFAR-10 Batch 1:  Loss: 1.8512 Validation_accuracy: 0.3212\n",
      "Epoch  6, CIFAR-10 Batch 1:  Loss: 1.7368 Validation_accuracy: 0.3534\n",
      "Epoch  7, CIFAR-10 Batch 1:  Loss: 1.6786 Validation_accuracy: 0.3778\n",
      "Epoch  8, CIFAR-10 Batch 1:  Loss: 1.6477 Validation_accuracy: 0.3682\n",
      "Epoch  9, CIFAR-10 Batch 1:  Loss: 1.5463 Validation_accuracy: 0.4038\n",
      "Epoch 10, CIFAR-10 Batch 1:  Loss: 1.4638 Validation_accuracy: 0.4310\n",
      "Epoch 11, CIFAR-10 Batch 1:  Loss: 1.4363 Validation_accuracy: 0.4440\n",
      "Epoch 12, CIFAR-10 Batch 1:  Loss: 1.4039 Validation_accuracy: 0.4432\n",
      "Epoch 13, CIFAR-10 Batch 1:  Loss: 1.3673 Validation_accuracy: 0.4568\n",
      "Epoch 14, CIFAR-10 Batch 1:  Loss: 1.3356 Validation_accuracy: 0.4662\n",
      "Epoch 15, CIFAR-10 Batch 1:  Loss: 1.2559 Validation_accuracy: 0.4826\n",
      "Epoch 16, CIFAR-10 Batch 1:  Loss: 1.2187 Validation_accuracy: 0.4892\n",
      "Epoch 17, CIFAR-10 Batch 1:  Loss: 1.2929 Validation_accuracy: 0.4668\n",
      "Epoch 18, CIFAR-10 Batch 1:  Loss: 1.2006 Validation_accuracy: 0.4814\n",
      "Epoch 19, CIFAR-10 Batch 1:  Loss: 1.1310 Validation_accuracy: 0.5060\n",
      "Epoch 20, CIFAR-10 Batch 1:  Loss: 1.0884 Validation_accuracy: 0.5172\n",
      "Epoch 21, CIFAR-10 Batch 1:  Loss: 1.0884 Validation_accuracy: 0.5102\n",
      "Epoch 22, CIFAR-10 Batch 1:  Loss: 1.0816 Validation_accuracy: 0.5046\n",
      "Epoch 23, CIFAR-10 Batch 1:  Loss: 0.9987 Validation_accuracy: 0.5272\n",
      "Epoch 24, CIFAR-10 Batch 1:  Loss: 0.9935 Validation_accuracy: 0.5124\n",
      "Epoch 25, CIFAR-10 Batch 1:  Loss: 0.9704 Validation_accuracy: 0.5200\n",
      "Epoch 26, CIFAR-10 Batch 1:  Loss: 0.9669 Validation_accuracy: 0.5154\n",
      "Epoch 27, CIFAR-10 Batch 1:  Loss: 0.8702 Validation_accuracy: 0.5366\n",
      "Epoch 28, CIFAR-10 Batch 1:  Loss: 0.9006 Validation_accuracy: 0.5298\n",
      "Epoch 29, CIFAR-10 Batch 1:  Loss: 0.8624 Validation_accuracy: 0.5298\n",
      "Epoch 30, CIFAR-10 Batch 1:  Loss: 0.9007 Validation_accuracy: 0.5236\n",
      "Epoch 31, CIFAR-10 Batch 1:  Loss: 0.8149 Validation_accuracy: 0.5302\n",
      "Epoch 32, CIFAR-10 Batch 1:  Loss: 0.7725 Validation_accuracy: 0.5518\n",
      "Epoch 33, CIFAR-10 Batch 1:  Loss: 0.7220 Validation_accuracy: 0.5540\n",
      "Epoch 34, CIFAR-10 Batch 1:  Loss: 0.7160 Validation_accuracy: 0.5480\n",
      "Epoch 35, CIFAR-10 Batch 1:  Loss: 0.6636 Validation_accuracy: 0.5486\n",
      "Epoch 36, CIFAR-10 Batch 1:  Loss: 0.6957 Validation_accuracy: 0.5312\n",
      "Epoch 37, CIFAR-10 Batch 1:  Loss: 0.6379 Validation_accuracy: 0.5460\n",
      "Epoch 38, CIFAR-10 Batch 1:  Loss: 0.6228 Validation_accuracy: 0.5402\n",
      "Epoch 39, CIFAR-10 Batch 1:  Loss: 0.5750 Validation_accuracy: 0.5608\n",
      "Epoch 40, CIFAR-10 Batch 1:  Loss: 0.5439 Validation_accuracy: 0.5578\n",
      "Epoch 41, CIFAR-10 Batch 1:  Loss: 0.5097 Validation_accuracy: 0.5578\n",
      "Epoch 42, CIFAR-10 Batch 1:  Loss: 0.4962 Validation_accuracy: 0.5568\n",
      "Epoch 43, CIFAR-10 Batch 1:  Loss: 0.4644 Validation_accuracy: 0.5602\n",
      "Epoch 44, CIFAR-10 Batch 1:  Loss: 0.4621 Validation_accuracy: 0.5564\n",
      "Epoch 45, CIFAR-10 Batch 1:  Loss: 0.4421 Validation_accuracy: 0.5516\n",
      "Epoch 46, CIFAR-10 Batch 1:  Loss: 0.4187 Validation_accuracy: 0.5490\n",
      "Epoch 47, CIFAR-10 Batch 1:  Loss: 0.3698 Validation_accuracy: 0.5578\n",
      "Epoch 48, CIFAR-10 Batch 1:  Loss: 0.4004 Validation_accuracy: 0.5426\n",
      "Epoch 49, CIFAR-10 Batch 1:  Loss: 0.3572 Validation_accuracy: 0.5676\n",
      "Epoch 50, CIFAR-10 Batch 1:  Loss: 0.3482 Validation_accuracy: 0.5646\n"
     ]
    }
   ],
   "source": [
    "\"\"\"\n",
    "DON'T MODIFY ANYTHING IN THIS CELL\n",
    "\"\"\"\n",
    "print('Checking the Training on a Single Batch...')\n",
    "with tf.Session() as sess:\n",
    "    # Initializing the variables\n",
    "    sess.run(tf.global_variables_initializer())\n",
    "    \n",
    "    # Training cycle\n",
    "    for epoch in range(epochs):\n",
    "        batch_i = 1\n",
    "        for batch_features, batch_labels in helper.load_preprocess_training_batch(batch_i, batch_size):\n",
    "            train_neural_network(sess, optimizer, keep_probability, batch_features, batch_labels)\n",
    "        print('Epoch {:>2}, CIFAR-10 Batch {}:  '.format(epoch + 1, batch_i), end='')\n",
    "        print_stats(sess, batch_features, batch_labels, cost, accuracy)"
   ]
  },
  {
   "cell_type": "markdown",
   "metadata": {},
   "source": [
    "### Fully Train the Model\n",
    "Now that you got a good accuracy with a single CIFAR-10 batch, try it with all five batches."
   ]
  },
  {
   "cell_type": "code",
   "execution_count": 23,
   "metadata": {},
   "outputs": [
    {
     "name": "stdout",
     "output_type": "stream",
     "text": [
      "Training...\n",
      "Epoch  1, CIFAR-10 Batch 1:  Loss: 2.2939 Validation_accuracy: 0.1766\n",
      "Epoch  1, CIFAR-10 Batch 2:  Loss: 2.2664 Validation_accuracy: 0.1618\n",
      "Epoch  1, CIFAR-10 Batch 3:  Loss: 2.1636 Validation_accuracy: 0.2234\n",
      "Epoch  1, CIFAR-10 Batch 4:  Loss: 2.0451 Validation_accuracy: 0.2610\n",
      "Epoch  1, CIFAR-10 Batch 5:  Loss: 1.9710 Validation_accuracy: 0.2792\n",
      "Epoch  2, CIFAR-10 Batch 1:  Loss: 1.9292 Validation_accuracy: 0.3020\n",
      "Epoch  2, CIFAR-10 Batch 2:  Loss: 1.8273 Validation_accuracy: 0.3486\n",
      "Epoch  2, CIFAR-10 Batch 3:  Loss: 1.7272 Validation_accuracy: 0.3620\n",
      "Epoch  2, CIFAR-10 Batch 4:  Loss: 1.6760 Validation_accuracy: 0.3758\n",
      "Epoch  2, CIFAR-10 Batch 5:  Loss: 1.6147 Validation_accuracy: 0.4022\n",
      "Epoch  3, CIFAR-10 Batch 1:  Loss: 1.6128 Validation_accuracy: 0.3888\n",
      "Epoch  3, CIFAR-10 Batch 2:  Loss: 1.6211 Validation_accuracy: 0.4174\n",
      "Epoch  3, CIFAR-10 Batch 3:  Loss: 1.5091 Validation_accuracy: 0.4202\n",
      "Epoch  3, CIFAR-10 Batch 4:  Loss: 1.4937 Validation_accuracy: 0.4264\n",
      "Epoch  3, CIFAR-10 Batch 5:  Loss: 1.4561 Validation_accuracy: 0.4514\n",
      "Epoch  4, CIFAR-10 Batch 1:  Loss: 1.4591 Validation_accuracy: 0.4536\n",
      "Epoch  4, CIFAR-10 Batch 2:  Loss: 1.4974 Validation_accuracy: 0.4526\n",
      "Epoch  4, CIFAR-10 Batch 3:  Loss: 1.3853 Validation_accuracy: 0.4612\n",
      "Epoch  4, CIFAR-10 Batch 4:  Loss: 1.3589 Validation_accuracy: 0.4752\n",
      "Epoch  4, CIFAR-10 Batch 5:  Loss: 1.3379 Validation_accuracy: 0.4856\n",
      "Epoch  5, CIFAR-10 Batch 1:  Loss: 1.3648 Validation_accuracy: 0.4752\n",
      "Epoch  5, CIFAR-10 Batch 2:  Loss: 1.3984 Validation_accuracy: 0.4730\n",
      "Epoch  5, CIFAR-10 Batch 3:  Loss: 1.2872 Validation_accuracy: 0.5046\n",
      "Epoch  5, CIFAR-10 Batch 4:  Loss: 1.2685 Validation_accuracy: 0.5120\n",
      "Epoch  5, CIFAR-10 Batch 5:  Loss: 1.2662 Validation_accuracy: 0.5128\n",
      "Epoch  6, CIFAR-10 Batch 1:  Loss: 1.2733 Validation_accuracy: 0.5282\n",
      "Epoch  6, CIFAR-10 Batch 2:  Loss: 1.3011 Validation_accuracy: 0.5178\n",
      "Epoch  6, CIFAR-10 Batch 3:  Loss: 1.2289 Validation_accuracy: 0.5190\n",
      "Epoch  6, CIFAR-10 Batch 4:  Loss: 1.1703 Validation_accuracy: 0.5380\n",
      "Epoch  6, CIFAR-10 Batch 5:  Loss: 1.1901 Validation_accuracy: 0.5410\n",
      "Epoch  7, CIFAR-10 Batch 1:  Loss: 1.1880 Validation_accuracy: 0.5466\n",
      "Epoch  7, CIFAR-10 Batch 2:  Loss: 1.2184 Validation_accuracy: 0.5452\n",
      "Epoch  7, CIFAR-10 Batch 3:  Loss: 1.1747 Validation_accuracy: 0.5410\n",
      "Epoch  7, CIFAR-10 Batch 4:  Loss: 1.1433 Validation_accuracy: 0.5528\n",
      "Epoch  7, CIFAR-10 Batch 5:  Loss: 1.1452 Validation_accuracy: 0.5524\n",
      "Epoch  8, CIFAR-10 Batch 1:  Loss: 1.1354 Validation_accuracy: 0.5708\n",
      "Epoch  8, CIFAR-10 Batch 2:  Loss: 1.1449 Validation_accuracy: 0.5684\n",
      "Epoch  8, CIFAR-10 Batch 3:  Loss: 1.1168 Validation_accuracy: 0.5716\n",
      "Epoch  8, CIFAR-10 Batch 4:  Loss: 1.0819 Validation_accuracy: 0.5640\n",
      "Epoch  8, CIFAR-10 Batch 5:  Loss: 1.0795 Validation_accuracy: 0.5606\n",
      "Epoch  9, CIFAR-10 Batch 1:  Loss: 1.1148 Validation_accuracy: 0.5676\n",
      "Epoch  9, CIFAR-10 Batch 2:  Loss: 1.1418 Validation_accuracy: 0.5616\n",
      "Epoch  9, CIFAR-10 Batch 3:  Loss: 1.0799 Validation_accuracy: 0.5728\n",
      "Epoch  9, CIFAR-10 Batch 4:  Loss: 1.0190 Validation_accuracy: 0.5778\n",
      "Epoch  9, CIFAR-10 Batch 5:  Loss: 1.0251 Validation_accuracy: 0.5854\n",
      "Epoch 10, CIFAR-10 Batch 1:  Loss: 1.0557 Validation_accuracy: 0.5884\n",
      "Epoch 10, CIFAR-10 Batch 2:  Loss: 1.0507 Validation_accuracy: 0.5922\n",
      "Epoch 10, CIFAR-10 Batch 3:  Loss: 0.9907 Validation_accuracy: 0.5906\n",
      "Epoch 10, CIFAR-10 Batch 4:  Loss: 1.0014 Validation_accuracy: 0.5784\n",
      "Epoch 10, CIFAR-10 Batch 5:  Loss: 0.9692 Validation_accuracy: 0.5956\n",
      "Epoch 11, CIFAR-10 Batch 1:  Loss: 1.0311 Validation_accuracy: 0.5924\n",
      "Epoch 11, CIFAR-10 Batch 2:  Loss: 1.0073 Validation_accuracy: 0.6032\n",
      "Epoch 11, CIFAR-10 Batch 3:  Loss: 0.9687 Validation_accuracy: 0.5956\n",
      "Epoch 11, CIFAR-10 Batch 4:  Loss: 0.9642 Validation_accuracy: 0.5844\n",
      "Epoch 11, CIFAR-10 Batch 5:  Loss: 0.9411 Validation_accuracy: 0.6012\n",
      "Epoch 12, CIFAR-10 Batch 1:  Loss: 0.9545 Validation_accuracy: 0.6148\n",
      "Epoch 12, CIFAR-10 Batch 2:  Loss: 0.9564 Validation_accuracy: 0.6134\n",
      "Epoch 12, CIFAR-10 Batch 3:  Loss: 0.9263 Validation_accuracy: 0.6124\n",
      "Epoch 12, CIFAR-10 Batch 4:  Loss: 0.9363 Validation_accuracy: 0.5900\n",
      "Epoch 12, CIFAR-10 Batch 5:  Loss: 0.8768 Validation_accuracy: 0.6200\n",
      "Epoch 13, CIFAR-10 Batch 1:  Loss: 0.9320 Validation_accuracy: 0.6128\n",
      "Epoch 13, CIFAR-10 Batch 2:  Loss: 0.9338 Validation_accuracy: 0.6082\n",
      "Epoch 13, CIFAR-10 Batch 3:  Loss: 0.8816 Validation_accuracy: 0.6214\n",
      "Epoch 13, CIFAR-10 Batch 4:  Loss: 0.8739 Validation_accuracy: 0.6250\n",
      "Epoch 13, CIFAR-10 Batch 5:  Loss: 0.8657 Validation_accuracy: 0.6228\n",
      "Epoch 14, CIFAR-10 Batch 1:  Loss: 0.8721 Validation_accuracy: 0.6282\n",
      "Epoch 14, CIFAR-10 Batch 2:  Loss: 0.8669 Validation_accuracy: 0.6308\n",
      "Epoch 14, CIFAR-10 Batch 3:  Loss: 0.8432 Validation_accuracy: 0.6286\n",
      "Epoch 14, CIFAR-10 Batch 4:  Loss: 0.8381 Validation_accuracy: 0.6158\n",
      "Epoch 14, CIFAR-10 Batch 5:  Loss: 0.8138 Validation_accuracy: 0.6354\n",
      "Epoch 15, CIFAR-10 Batch 1:  Loss: 0.8703 Validation_accuracy: 0.6196\n",
      "Epoch 15, CIFAR-10 Batch 2:  Loss: 0.8230 Validation_accuracy: 0.6372\n",
      "Epoch 15, CIFAR-10 Batch 3:  Loss: 0.8145 Validation_accuracy: 0.6342\n",
      "Epoch 15, CIFAR-10 Batch 4:  Loss: 0.8051 Validation_accuracy: 0.6332\n",
      "Epoch 15, CIFAR-10 Batch 5:  Loss: 0.7914 Validation_accuracy: 0.6370\n",
      "Epoch 16, CIFAR-10 Batch 1:  Loss: 0.7984 Validation_accuracy: 0.6410\n",
      "Epoch 16, CIFAR-10 Batch 2:  Loss: 0.7869 Validation_accuracy: 0.6416\n",
      "Epoch 16, CIFAR-10 Batch 3:  Loss: 0.7543 Validation_accuracy: 0.6466\n",
      "Epoch 16, CIFAR-10 Batch 4:  Loss: 0.7674 Validation_accuracy: 0.6302\n",
      "Epoch 16, CIFAR-10 Batch 5:  Loss: 0.7510 Validation_accuracy: 0.6390\n",
      "Epoch 17, CIFAR-10 Batch 1:  Loss: 0.7694 Validation_accuracy: 0.6478\n",
      "Epoch 17, CIFAR-10 Batch 2:  Loss: 0.7901 Validation_accuracy: 0.6296\n",
      "Epoch 17, CIFAR-10 Batch 3:  Loss: 0.7688 Validation_accuracy: 0.6410\n",
      "Epoch 17, CIFAR-10 Batch 4:  Loss: 0.7558 Validation_accuracy: 0.6468\n",
      "Epoch 17, CIFAR-10 Batch 5:  Loss: 0.7149 Validation_accuracy: 0.6518\n",
      "Epoch 18, CIFAR-10 Batch 1:  Loss: 0.7443 Validation_accuracy: 0.6486\n",
      "Epoch 18, CIFAR-10 Batch 2:  Loss: 0.7272 Validation_accuracy: 0.6432\n",
      "Epoch 18, CIFAR-10 Batch 3:  Loss: 0.7184 Validation_accuracy: 0.6456\n",
      "Epoch 18, CIFAR-10 Batch 4:  Loss: 0.6976 Validation_accuracy: 0.6564\n",
      "Epoch 18, CIFAR-10 Batch 5:  Loss: 0.6685 Validation_accuracy: 0.6586\n",
      "Epoch 19, CIFAR-10 Batch 1:  Loss: 0.6970 Validation_accuracy: 0.6550\n",
      "Epoch 19, CIFAR-10 Batch 2:  Loss: 0.6869 Validation_accuracy: 0.6548\n",
      "Epoch 19, CIFAR-10 Batch 3:  Loss: 0.7217 Validation_accuracy: 0.6410\n",
      "Epoch 19, CIFAR-10 Batch 4:  Loss: 0.6593 Validation_accuracy: 0.6540\n",
      "Epoch 19, CIFAR-10 Batch 5:  Loss: 0.6485 Validation_accuracy: 0.6582\n",
      "Epoch 20, CIFAR-10 Batch 1:  Loss: 0.7003 Validation_accuracy: 0.6518\n",
      "Epoch 20, CIFAR-10 Batch 2:  Loss: 0.6739 Validation_accuracy: 0.6610\n",
      "Epoch 20, CIFAR-10 Batch 3:  Loss: 0.6623 Validation_accuracy: 0.6478\n",
      "Epoch 20, CIFAR-10 Batch 4:  Loss: 0.6465 Validation_accuracy: 0.6584\n",
      "Epoch 20, CIFAR-10 Batch 5:  Loss: 0.6347 Validation_accuracy: 0.6596\n",
      "Epoch 21, CIFAR-10 Batch 1:  Loss: 0.6439 Validation_accuracy: 0.6620\n",
      "Epoch 21, CIFAR-10 Batch 2:  Loss: 0.6367 Validation_accuracy: 0.6628\n",
      "Epoch 21, CIFAR-10 Batch 3:  Loss: 0.6509 Validation_accuracy: 0.6438\n",
      "Epoch 21, CIFAR-10 Batch 4:  Loss: 0.5926 Validation_accuracy: 0.6642\n",
      "Epoch 21, CIFAR-10 Batch 5:  Loss: 0.5849 Validation_accuracy: 0.6654\n",
      "Epoch 22, CIFAR-10 Batch 1:  Loss: 0.6168 Validation_accuracy: 0.6682\n",
      "Epoch 22, CIFAR-10 Batch 2:  Loss: 0.5979 Validation_accuracy: 0.6774\n",
      "Epoch 22, CIFAR-10 Batch 3:  Loss: 0.5993 Validation_accuracy: 0.6656\n",
      "Epoch 22, CIFAR-10 Batch 4:  Loss: 0.5798 Validation_accuracy: 0.6710\n",
      "Epoch 22, CIFAR-10 Batch 5:  Loss: 0.5688 Validation_accuracy: 0.6620\n",
      "Epoch 23, CIFAR-10 Batch 1:  Loss: 0.5887 Validation_accuracy: 0.6644\n",
      "Epoch 23, CIFAR-10 Batch 2:  Loss: 0.5834 Validation_accuracy: 0.6776\n",
      "Epoch 23, CIFAR-10 Batch 3:  Loss: 0.5604 Validation_accuracy: 0.6612\n",
      "Epoch 23, CIFAR-10 Batch 4:  Loss: 0.5635 Validation_accuracy: 0.6646\n",
      "Epoch 23, CIFAR-10 Batch 5:  Loss: 0.5384 Validation_accuracy: 0.6684\n",
      "Epoch 24, CIFAR-10 Batch 1:  Loss: 0.6016 Validation_accuracy: 0.6532\n",
      "Epoch 24, CIFAR-10 Batch 2:  Loss: 0.5989 Validation_accuracy: 0.6618\n"
     ]
    },
    {
     "name": "stdout",
     "output_type": "stream",
     "text": [
      "Epoch 24, CIFAR-10 Batch 3:  Loss: 0.5556 Validation_accuracy: 0.6648\n",
      "Epoch 24, CIFAR-10 Batch 4:  Loss: 0.5649 Validation_accuracy: 0.6572\n",
      "Epoch 24, CIFAR-10 Batch 5:  Loss: 0.5205 Validation_accuracy: 0.6748\n",
      "Epoch 25, CIFAR-10 Batch 1:  Loss: 0.5624 Validation_accuracy: 0.6644\n",
      "Epoch 25, CIFAR-10 Batch 2:  Loss: 0.5805 Validation_accuracy: 0.6594\n",
      "Epoch 25, CIFAR-10 Batch 3:  Loss: 0.5956 Validation_accuracy: 0.6520\n",
      "Epoch 25, CIFAR-10 Batch 4:  Loss: 0.5316 Validation_accuracy: 0.6676\n",
      "Epoch 25, CIFAR-10 Batch 5:  Loss: 0.5308 Validation_accuracy: 0.6636\n",
      "Epoch 26, CIFAR-10 Batch 1:  Loss: 0.5251 Validation_accuracy: 0.6722\n",
      "Epoch 26, CIFAR-10 Batch 2:  Loss: 0.5263 Validation_accuracy: 0.6806\n",
      "Epoch 26, CIFAR-10 Batch 3:  Loss: 0.5212 Validation_accuracy: 0.6728\n",
      "Epoch 26, CIFAR-10 Batch 4:  Loss: 0.4900 Validation_accuracy: 0.6802\n",
      "Epoch 26, CIFAR-10 Batch 5:  Loss: 0.4756 Validation_accuracy: 0.6790\n",
      "Epoch 27, CIFAR-10 Batch 1:  Loss: 0.5203 Validation_accuracy: 0.6718\n",
      "Epoch 27, CIFAR-10 Batch 2:  Loss: 0.5126 Validation_accuracy: 0.6794\n",
      "Epoch 27, CIFAR-10 Batch 3:  Loss: 0.5150 Validation_accuracy: 0.6724\n",
      "Epoch 27, CIFAR-10 Batch 4:  Loss: 0.4981 Validation_accuracy: 0.6706\n",
      "Epoch 27, CIFAR-10 Batch 5:  Loss: 0.5102 Validation_accuracy: 0.6624\n",
      "Epoch 28, CIFAR-10 Batch 1:  Loss: 0.5037 Validation_accuracy: 0.6720\n",
      "Epoch 28, CIFAR-10 Batch 2:  Loss: 0.5097 Validation_accuracy: 0.6728\n",
      "Epoch 28, CIFAR-10 Batch 3:  Loss: 0.5440 Validation_accuracy: 0.6558\n",
      "Epoch 28, CIFAR-10 Batch 4:  Loss: 0.5142 Validation_accuracy: 0.6642\n",
      "Epoch 28, CIFAR-10 Batch 5:  Loss: 0.4655 Validation_accuracy: 0.6694\n",
      "Epoch 29, CIFAR-10 Batch 1:  Loss: 0.4990 Validation_accuracy: 0.6826\n",
      "Epoch 29, CIFAR-10 Batch 2:  Loss: 0.5014 Validation_accuracy: 0.6710\n",
      "Epoch 29, CIFAR-10 Batch 3:  Loss: 0.4579 Validation_accuracy: 0.6748\n",
      "Epoch 29, CIFAR-10 Batch 4:  Loss: 0.4886 Validation_accuracy: 0.6708\n",
      "Epoch 29, CIFAR-10 Batch 5:  Loss: 0.4580 Validation_accuracy: 0.6792\n",
      "Epoch 30, CIFAR-10 Batch 1:  Loss: 0.4767 Validation_accuracy: 0.6800\n",
      "Epoch 30, CIFAR-10 Batch 2:  Loss: 0.4572 Validation_accuracy: 0.6766\n",
      "Epoch 30, CIFAR-10 Batch 3:  Loss: 0.4328 Validation_accuracy: 0.6804\n",
      "Epoch 30, CIFAR-10 Batch 4:  Loss: 0.4537 Validation_accuracy: 0.6694\n",
      "Epoch 30, CIFAR-10 Batch 5:  Loss: 0.4661 Validation_accuracy: 0.6698\n",
      "Epoch 31, CIFAR-10 Batch 1:  Loss: 0.4602 Validation_accuracy: 0.6810\n",
      "Epoch 31, CIFAR-10 Batch 2:  Loss: 0.4810 Validation_accuracy: 0.6658\n",
      "Epoch 31, CIFAR-10 Batch 3:  Loss: 0.3968 Validation_accuracy: 0.6844\n",
      "Epoch 31, CIFAR-10 Batch 4:  Loss: 0.4202 Validation_accuracy: 0.6802\n",
      "Epoch 31, CIFAR-10 Batch 5:  Loss: 0.4309 Validation_accuracy: 0.6828\n",
      "Epoch 32, CIFAR-10 Batch 1:  Loss: 0.4646 Validation_accuracy: 0.6624\n",
      "Epoch 32, CIFAR-10 Batch 2:  Loss: 0.4232 Validation_accuracy: 0.6792\n",
      "Epoch 32, CIFAR-10 Batch 3:  Loss: 0.3831 Validation_accuracy: 0.6882\n",
      "Epoch 32, CIFAR-10 Batch 4:  Loss: 0.4128 Validation_accuracy: 0.6740\n",
      "Epoch 32, CIFAR-10 Batch 5:  Loss: 0.4149 Validation_accuracy: 0.6610\n",
      "Epoch 33, CIFAR-10 Batch 1:  Loss: 0.4580 Validation_accuracy: 0.6618\n",
      "Epoch 33, CIFAR-10 Batch 2:  Loss: 0.4343 Validation_accuracy: 0.6740\n",
      "Epoch 33, CIFAR-10 Batch 3:  Loss: 0.3680 Validation_accuracy: 0.6876\n",
      "Epoch 33, CIFAR-10 Batch 4:  Loss: 0.3828 Validation_accuracy: 0.6682\n",
      "Epoch 33, CIFAR-10 Batch 5:  Loss: 0.3703 Validation_accuracy: 0.6716\n",
      "Epoch 34, CIFAR-10 Batch 1:  Loss: 0.4101 Validation_accuracy: 0.6716\n",
      "Epoch 34, CIFAR-10 Batch 2:  Loss: 0.4592 Validation_accuracy: 0.6728\n",
      "Epoch 34, CIFAR-10 Batch 3:  Loss: 0.3692 Validation_accuracy: 0.6758\n",
      "Epoch 34, CIFAR-10 Batch 4:  Loss: 0.3849 Validation_accuracy: 0.6588\n",
      "Epoch 34, CIFAR-10 Batch 5:  Loss: 0.3521 Validation_accuracy: 0.6732\n",
      "Epoch 35, CIFAR-10 Batch 1:  Loss: 0.3753 Validation_accuracy: 0.6842\n",
      "Epoch 35, CIFAR-10 Batch 2:  Loss: 0.3979 Validation_accuracy: 0.6680\n",
      "Epoch 35, CIFAR-10 Batch 3:  Loss: 0.3531 Validation_accuracy: 0.6764\n",
      "Epoch 35, CIFAR-10 Batch 4:  Loss: 0.3774 Validation_accuracy: 0.6638\n",
      "Epoch 35, CIFAR-10 Batch 5:  Loss: 0.3502 Validation_accuracy: 0.6712\n",
      "Epoch 36, CIFAR-10 Batch 1:  Loss: 0.4029 Validation_accuracy: 0.6702\n",
      "Epoch 36, CIFAR-10 Batch 2:  Loss: 0.3860 Validation_accuracy: 0.6768\n",
      "Epoch 36, CIFAR-10 Batch 3:  Loss: 0.3489 Validation_accuracy: 0.6864\n",
      "Epoch 36, CIFAR-10 Batch 4:  Loss: 0.3639 Validation_accuracy: 0.6614\n",
      "Epoch 36, CIFAR-10 Batch 5:  Loss: 0.3479 Validation_accuracy: 0.6766\n",
      "Epoch 37, CIFAR-10 Batch 1:  Loss: 0.3718 Validation_accuracy: 0.6776\n",
      "Epoch 37, CIFAR-10 Batch 2:  Loss: 0.3754 Validation_accuracy: 0.6674\n",
      "Epoch 37, CIFAR-10 Batch 3:  Loss: 0.3325 Validation_accuracy: 0.6780\n",
      "Epoch 37, CIFAR-10 Batch 4:  Loss: 0.3447 Validation_accuracy: 0.6576\n",
      "Epoch 37, CIFAR-10 Batch 5:  Loss: 0.3668 Validation_accuracy: 0.6614\n",
      "Epoch 38, CIFAR-10 Batch 1:  Loss: 0.3903 Validation_accuracy: 0.6646\n",
      "Epoch 38, CIFAR-10 Batch 2:  Loss: 0.3586 Validation_accuracy: 0.6744\n",
      "Epoch 38, CIFAR-10 Batch 3:  Loss: 0.3401 Validation_accuracy: 0.6804\n",
      "Epoch 38, CIFAR-10 Batch 4:  Loss: 0.3380 Validation_accuracy: 0.6660\n",
      "Epoch 38, CIFAR-10 Batch 5:  Loss: 0.3472 Validation_accuracy: 0.6592\n",
      "Epoch 39, CIFAR-10 Batch 1:  Loss: 0.3310 Validation_accuracy: 0.6850\n",
      "Epoch 39, CIFAR-10 Batch 2:  Loss: 0.3468 Validation_accuracy: 0.6702\n",
      "Epoch 39, CIFAR-10 Batch 3:  Loss: 0.3263 Validation_accuracy: 0.6722\n",
      "Epoch 39, CIFAR-10 Batch 4:  Loss: 0.3192 Validation_accuracy: 0.6684\n",
      "Epoch 39, CIFAR-10 Batch 5:  Loss: 0.3418 Validation_accuracy: 0.6660\n",
      "Epoch 40, CIFAR-10 Batch 1:  Loss: 0.3341 Validation_accuracy: 0.6798\n",
      "Epoch 40, CIFAR-10 Batch 2:  Loss: 0.3122 Validation_accuracy: 0.6852\n",
      "Epoch 40, CIFAR-10 Batch 3:  Loss: 0.2870 Validation_accuracy: 0.6762\n",
      "Epoch 40, CIFAR-10 Batch 4:  Loss: 0.3058 Validation_accuracy: 0.6680\n",
      "Epoch 40, CIFAR-10 Batch 5:  Loss: 0.3294 Validation_accuracy: 0.6664\n",
      "Epoch 41, CIFAR-10 Batch 1:  Loss: 0.3136 Validation_accuracy: 0.6840\n",
      "Epoch 41, CIFAR-10 Batch 2:  Loss: 0.2970 Validation_accuracy: 0.6778\n",
      "Epoch 41, CIFAR-10 Batch 3:  Loss: 0.2990 Validation_accuracy: 0.6726\n",
      "Epoch 41, CIFAR-10 Batch 4:  Loss: 0.2931 Validation_accuracy: 0.6770\n",
      "Epoch 41, CIFAR-10 Batch 5:  Loss: 0.2850 Validation_accuracy: 0.6730\n",
      "Epoch 42, CIFAR-10 Batch 1:  Loss: 0.2897 Validation_accuracy: 0.6848\n",
      "Epoch 42, CIFAR-10 Batch 2:  Loss: 0.3127 Validation_accuracy: 0.6816\n",
      "Epoch 42, CIFAR-10 Batch 3:  Loss: 0.2842 Validation_accuracy: 0.6746\n",
      "Epoch 42, CIFAR-10 Batch 4:  Loss: 0.2743 Validation_accuracy: 0.6782\n",
      "Epoch 42, CIFAR-10 Batch 5:  Loss: 0.2552 Validation_accuracy: 0.6792\n",
      "Epoch 43, CIFAR-10 Batch 1:  Loss: 0.2649 Validation_accuracy: 0.6856\n",
      "Epoch 43, CIFAR-10 Batch 2:  Loss: 0.2787 Validation_accuracy: 0.6790\n",
      "Epoch 43, CIFAR-10 Batch 3:  Loss: 0.2493 Validation_accuracy: 0.6768\n",
      "Epoch 43, CIFAR-10 Batch 4:  Loss: 0.2488 Validation_accuracy: 0.6824\n",
      "Epoch 43, CIFAR-10 Batch 5:  Loss: 0.2456 Validation_accuracy: 0.6836\n",
      "Epoch 44, CIFAR-10 Batch 1:  Loss: 0.2440 Validation_accuracy: 0.6864\n",
      "Epoch 44, CIFAR-10 Batch 2:  Loss: 0.2455 Validation_accuracy: 0.6870\n",
      "Epoch 44, CIFAR-10 Batch 3:  Loss: 0.2416 Validation_accuracy: 0.6812\n",
      "Epoch 44, CIFAR-10 Batch 4:  Loss: 0.2556 Validation_accuracy: 0.6732\n",
      "Epoch 44, CIFAR-10 Batch 5:  Loss: 0.2275 Validation_accuracy: 0.6890\n",
      "Epoch 45, CIFAR-10 Batch 1:  Loss: 0.2495 Validation_accuracy: 0.6800\n",
      "Epoch 45, CIFAR-10 Batch 2:  Loss: 0.2414 Validation_accuracy: 0.6866\n",
      "Epoch 45, CIFAR-10 Batch 3:  Loss: 0.2300 Validation_accuracy: 0.6784\n",
      "Epoch 45, CIFAR-10 Batch 4:  Loss: 0.2587 Validation_accuracy: 0.6702\n",
      "Epoch 45, CIFAR-10 Batch 5:  Loss: 0.2376 Validation_accuracy: 0.6814\n",
      "Epoch 46, CIFAR-10 Batch 1:  Loss: 0.2424 Validation_accuracy: 0.6852\n",
      "Epoch 46, CIFAR-10 Batch 2:  Loss: 0.2255 Validation_accuracy: 0.6868\n",
      "Epoch 46, CIFAR-10 Batch 3:  Loss: 0.2196 Validation_accuracy: 0.6848\n",
      "Epoch 46, CIFAR-10 Batch 4:  Loss: 0.2422 Validation_accuracy: 0.6724\n",
      "Epoch 46, CIFAR-10 Batch 5:  Loss: 0.2264 Validation_accuracy: 0.6828\n",
      "Epoch 47, CIFAR-10 Batch 1:  Loss: 0.2413 Validation_accuracy: 0.6762\n",
      "Epoch 47, CIFAR-10 Batch 2:  Loss: 0.2393 Validation_accuracy: 0.6782\n",
      "Epoch 47, CIFAR-10 Batch 3:  Loss: 0.2186 Validation_accuracy: 0.6832\n",
      "Epoch 47, CIFAR-10 Batch 4:  Loss: 0.2023 Validation_accuracy: 0.6816\n",
      "Epoch 47, CIFAR-10 Batch 5:  Loss: 0.2200 Validation_accuracy: 0.6850\n"
     ]
    },
    {
     "name": "stdout",
     "output_type": "stream",
     "text": [
      "Epoch 48, CIFAR-10 Batch 1:  Loss: 0.2266 Validation_accuracy: 0.6720\n",
      "Epoch 48, CIFAR-10 Batch 2:  Loss: 0.2256 Validation_accuracy: 0.6790\n",
      "Epoch 48, CIFAR-10 Batch 3:  Loss: 0.2217 Validation_accuracy: 0.6800\n",
      "Epoch 48, CIFAR-10 Batch 4:  Loss: 0.2234 Validation_accuracy: 0.6778\n",
      "Epoch 48, CIFAR-10 Batch 5:  Loss: 0.2011 Validation_accuracy: 0.6820\n",
      "Epoch 49, CIFAR-10 Batch 1:  Loss: 0.2170 Validation_accuracy: 0.6754\n",
      "Epoch 49, CIFAR-10 Batch 2:  Loss: 0.2192 Validation_accuracy: 0.6698\n",
      "Epoch 49, CIFAR-10 Batch 3:  Loss: 0.2217 Validation_accuracy: 0.6760\n",
      "Epoch 49, CIFAR-10 Batch 4:  Loss: 0.2033 Validation_accuracy: 0.6788\n",
      "Epoch 49, CIFAR-10 Batch 5:  Loss: 0.1861 Validation_accuracy: 0.6838\n",
      "Epoch 50, CIFAR-10 Batch 1:  Loss: 0.2209 Validation_accuracy: 0.6710\n",
      "Epoch 50, CIFAR-10 Batch 2:  Loss: 0.1928 Validation_accuracy: 0.6790\n",
      "Epoch 50, CIFAR-10 Batch 3:  Loss: 0.2136 Validation_accuracy: 0.6692\n",
      "Epoch 50, CIFAR-10 Batch 4:  Loss: 0.2098 Validation_accuracy: 0.6796\n",
      "Epoch 50, CIFAR-10 Batch 5:  Loss: 0.2310 Validation_accuracy: 0.6660\n"
     ]
    }
   ],
   "source": [
    "\"\"\"\n",
    "DON'T MODIFY ANYTHING IN THIS CELL\n",
    "\"\"\"\n",
    "save_model_path = './image_classification'\n",
    "\n",
    "print('Training...')\n",
    "with tf.Session() as sess:\n",
    "    # Initializing the variables\n",
    "    sess.run(tf.global_variables_initializer())\n",
    "    \n",
    "    # Training cycle\n",
    "    for epoch in range(epochs):\n",
    "        # Loop over all batches\n",
    "        n_batches = 5\n",
    "        for batch_i in range(1, n_batches + 1):\n",
    "            for batch_features, batch_labels in helper.load_preprocess_training_batch(batch_i, batch_size):\n",
    "                train_neural_network(sess, optimizer, keep_probability, batch_features, batch_labels)\n",
    "            print('Epoch {:>2}, CIFAR-10 Batch {}:  '.format(epoch + 1, batch_i), end='')\n",
    "            print_stats(sess, batch_features, batch_labels, cost, accuracy)\n",
    "            \n",
    "    # Save Model\n",
    "    saver = tf.train.Saver()\n",
    "    save_path = saver.save(sess, save_model_path)"
   ]
  },
  {
   "cell_type": "markdown",
   "metadata": {},
   "source": [
    "# Checkpoint\n",
    "The model has been saved to disk.\n",
    "## Test Model\n",
    "Test your model against the test dataset.  This will be your final accuracy. You should have an accuracy greater than 50%. If you don't, keep tweaking the model architecture and parameters."
   ]
  },
  {
   "cell_type": "code",
   "execution_count": 24,
   "metadata": {},
   "outputs": [
    {
     "name": "stdout",
     "output_type": "stream",
     "text": [
      "INFO:tensorflow:Restoring parameters from ./image_classification\n",
      "Testing Accuracy: 0.6518694162368774\n",
      "\n"
     ]
    },
    {
     "data": {
      "image/png": "[encoded data removed]",
      "text/plain": [
       "<matplotlib.figure.Figure at 0x7fb7ee9c15f8>"
      ]
     },
     "metadata": {
      "image/png": {
       "height": 319,
       "width": 355
      }
     },
     "output_type": "display_data"
    }
   ],
   "source": [
    "\"\"\"\n",
    "DON'T MODIFY ANYTHING IN THIS CELL\n",
    "\"\"\"\n",
    "%matplotlib inline\n",
    "%config InlineBackend.figure_format = 'retina'\n",
    "\n",
    "import tensorflow as tf\n",
    "import pickle\n",
    "import helper\n",
    "import random\n",
    "\n",
    "# Set batch size if not already set\n",
    "try:\n",
    "    if batch_size:\n",
    "        pass\n",
    "except NameError:\n",
    "    batch_size = 64\n",
    "\n",
    "save_model_path = './image_classification'\n",
    "n_samples = 4\n",
    "top_n_predictions = 3\n",
    "\n",
    "def test_model():\n",
    "    \"\"\"\n",
    "    Test the saved model against the test dataset\n",
    "    \"\"\"\n",
    "\n",
    "    test_features, test_labels = pickle.load(open('preprocess_test.p', mode='rb'))\n",
    "    loaded_graph = tf.Graph()\n",
    "\n",
    "    with tf.Session(graph=loaded_graph) as sess:\n",
    "        # Load model\n",
    "        loader = tf.train.import_meta_graph(save_model_path + '.meta')\n",
    "        loader.restore(sess, save_model_path)\n",
    "\n",
    "        # Get Tensors from loaded model\n",
    "        loaded_x = loaded_graph.get_tensor_by_name('x:0')\n",
    "        loaded_y = loaded_graph.get_tensor_by_name('y:0')\n",
    "        loaded_keep_prob = loaded_graph.get_tensor_by_name('keep_prob:0')\n",
    "        loaded_logits = loaded_graph.get_tensor_by_name('logits:0')\n",
    "        loaded_acc = loaded_graph.get_tensor_by_name('accuracy:0')\n",
    "        \n",
    "        # Get accuracy in batches for memory limitations\n",
    "        test_batch_acc_total = 0\n",
    "        test_batch_count = 0\n",
    "        \n",
    "        for test_feature_batch, test_label_batch in helper.batch_features_labels(test_features, test_labels, batch_size):\n",
    "            test_batch_acc_total += sess.run(\n",
    "                loaded_acc,\n",
    "                feed_dict={loaded_x: test_feature_batch, loaded_y: test_label_batch, loaded_keep_prob: 1.0})\n",
    "            test_batch_count += 1\n",
    "\n",
    "        print('Testing Accuracy: {}\\n'.format(test_batch_acc_total/test_batch_count))\n",
    "\n",
    "        # Print Random Samples\n",
    "        random_test_features, random_test_labels = tuple(zip(*random.sample(list(zip(test_features, test_labels)), n_samples)))\n",
    "        random_test_predictions = sess.run(\n",
    "            tf.nn.top_k(tf.nn.softmax(loaded_logits), top_n_predictions),\n",
    "            feed_dict={loaded_x: random_test_features, loaded_y: random_test_labels, loaded_keep_prob: 1.0})\n",
    "        helper.display_image_predictions(random_test_features, random_test_labels, random_test_predictions)\n",
    "\n",
    "\n",
    "test_model()"
   ]
  },
  {
   "cell_type": "markdown",
   "metadata": {},
   "source": [
    "## Why 50-80% Accuracy?\n",
    "You might be wondering why you can't get an accuracy any higher. First things first, 50% isn't bad for a simple CNN.  Pure guessing would get you 10% accuracy. However, you might notice people are getting scores [well above 80%](http://rodrigob.github.io/are_we_there_yet/build/classification_datasets_results.html#43494641522d3130).  That's because we haven't taught you all there is to know about neural networks. We still need to cover a few more techniques.\n",
    "## Submitting This Project\n",
    "When submitting this project, make sure to run all the cells before saving the notebook.  Save the notebook file as \"dlnd_image_classification.ipynb\" and save it as a HTML file under \"File\" -> \"Download as\".  Include the \"helper.py\" and \"problem_unittests.py\" files in your submission."
   ]
  }
 ],
 "metadata": {
  "kernelspec": {
   "display_name": "Python 3",
   "language": "python",
   "name": "python3"
  },
  "language_info": {
   "codemirror_mode": {
    "name": "ipython",
    "version": 3
   },
   "file_extension": ".py",
   "mimetype": "text/x-python",
   "name": "python",
   "nbconvert_exporter": "python",
   "pygments_lexer": "ipython3",
   "version": "3.5.3"
  }
 },
 "nbformat": 4,
 "nbformat_minor": 1
}
