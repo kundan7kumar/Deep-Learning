{
 "cells": [
  {
   "cell_type": "code",
   "execution_count": null,
   "metadata": {},
   "outputs": [
    {
     "name": "stdout",
     "output_type": "stream",
     "text": [
      "Collecting package metadata: done\n",
      "Solving environment: done\n",
      "\n",
      "## Package Plan ##\n",
      "\n",
      "  environment location: /Users/kundan/anaconda3\n",
      "\n",
      "  added / updated specs:\n",
      "    - pytorch\n",
      "    - torchvision\n",
      "\n",
      "\n",
      "The following packages will be downloaded:\n",
      "\n",
      "    package                    |            build\n",
      "    ---------------------------|-----------------\n",
      "    ninja-1.9.0                |   py37h04f5b5a_0          96 KB\n",
      "    pytorch-1.0.1              |          py3.7_2        25.7 MB  pytorch\n",
      "    torchvision-0.2.2          |             py_3          44 KB  pytorch\n",
      "    ------------------------------------------------------------\n",
      "                                           Total:        25.8 MB\n",
      "\n",
      "The following NEW packages will be INSTALLED:\n",
      "\n",
      "  ninja              pkgs/main/osx-64::ninja-1.9.0-py37h04f5b5a_0\n",
      "  pytorch            pytorch/osx-64::pytorch-1.0.1-py3.7_2\n",
      "  torchvision        pytorch/noarch::torchvision-0.2.2-py_3\n",
      "\n",
      "\n",
      "Proceed ([y]/n)? "
     ]
    }
   ],
   "source": [
    "#PyTorch uses conda for installation\n",
    "!conda install pytorch torchvision -c pytorch\n",
    "# For MXNet we use pip:\n",
    "#!pip install mxnet"
   ]
  },
  {
   "cell_type": "code",
   "execution_count": null,
   "metadata": {},
   "outputs": [],
   "source": [
    "\n"
   ]
  },
  {
   "cell_type": "code",
   "execution_count": null,
   "metadata": {},
   "outputs": [],
   "source": []
  }
 ],
 "metadata": {
  "kernelspec": {
   "display_name": "Python 3",
   "language": "python",
   "name": "python3"
  },
  "language_info": {
   "codemirror_mode": {
    "name": "ipython",
    "version": 3
   },
   "file_extension": ".py",
   "mimetype": "text/x-python",
   "name": "python",
   "nbconvert_exporter": "python",
   "pygments_lexer": "ipython3",
   "version": "3.7.1"
  }
 },
 "nbformat": 4,
 "nbformat_minor": 2
}
